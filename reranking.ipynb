{
  "nbformat": 4,
  "nbformat_minor": 0,
  "metadata": {
    "colab": {
      "provenance": [],
      "include_colab_link": true
    },
    "kernelspec": {
      "name": "python3",
      "display_name": "Python 3"
    }
  },
  "cells": [
    {
      "cell_type": "markdown",
      "metadata": {
        "id": "view-in-github",
        "colab_type": "text"
      },
      "source": [
        "<a href=\"https://colab.research.google.com/github/agasti-mhatre/CS5610-FinalProject-Frontend/blob/main/reranking.ipynb\" target=\"_parent\"><img src=\"https://colab.research.google.com/assets/colab-badge.svg\" alt=\"Open In Colab\"/></a>"
      ]
    },
    {
      "cell_type": "markdown",
      "metadata": {
        "id": "vUpmSFflwzR1"
      },
      "source": [
        "# Reranking Retrieval Results"
      ]
    },
    {
      "cell_type": "markdown",
      "metadata": {
        "id": "-2PzgU4YxIl3"
      },
      "source": [
        "In this notebook, you will continue using the [Pyserini](http://pyserini.io/) library's indexing and retrieval models.  This time, however, you will get an initial set of retrieval results and then write your own reranking code to try to move relevant documents higher in the list."
      ]
    },
    {
      "cell_type": "markdown",
      "metadata": {
        "id": "f2vNd7bpJlDZ"
      },
      "source": [
        "As before, we start by installing the python interface. Since it calls the underlying Lucene search engine, which is written in Java, we make sure we point to an appropriate Java installation. If like Colab you don't have Java 21, uncomment the following code and run it, or whatever makes sense for your platform."
      ]
    },
    {
      "cell_type": "code",
      "source": [
        "## Uncomment the following code to install Java 21 on Colab\n",
        "!apt-get install openjdk-21-jre-headless -qq > /dev/null\n",
        "import os\n",
        "os.environ[\"JAVA_HOME\"] = \"/usr/lib/jvm/java-21-openjdk-amd64\"\n",
        "!update-alternatives --set java /usr/lib/jvm/java-21-openjdk-amd64/bin/java\n",
        "!java -version"
      ],
      "metadata": {
        "colab": {
          "base_uri": "https://localhost:8080/"
        },
        "id": "nBDwrCizYdak",
        "outputId": "34afb706-5386-4c9e-9534-1205319714bb"
      },
      "execution_count": 2,
      "outputs": [
        {
          "output_type": "stream",
          "name": "stdout",
          "text": [
            "openjdk version \"21.0.6\" 2025-01-21\n",
            "OpenJDK Runtime Environment (build 21.0.6+7-Ubuntu-122.04.1)\n",
            "OpenJDK 64-Bit Server VM (build 21.0.6+7-Ubuntu-122.04.1, mixed mode, sharing)\n"
          ]
        }
      ]
    },
    {
      "cell_type": "code",
      "metadata": {
        "id": "E_lt0-pXJia0",
        "colab": {
          "base_uri": "https://localhost:8080/"
        },
        "outputId": "f0a9a9d6-4031-4b75-8287-9f2a740b74e1"
      },
      "source": [
        "!pip install pyserini\n",
        "# You can change this to gpu if you have one.\n",
        "# It's a pyserini dependency, but we won't need it until the next assignment.\n",
        "!pip install faiss-cpu"
      ],
      "execution_count": 3,
      "outputs": [
        {
          "output_type": "stream",
          "name": "stdout",
          "text": [
            "Collecting pyserini\n",
            "  Downloading pyserini-0.44.0.tar.gz (195.3 MB)\n",
            "\u001b[2K     \u001b[90m━━━━━━━━━━━━━━━━━━━━━━━━━━━━━━━━━━━━━━━━\u001b[0m \u001b[32m195.3/195.3 MB\u001b[0m \u001b[31m6.0 MB/s\u001b[0m eta \u001b[36m0:00:00\u001b[0m\n",
            "\u001b[?25h  Installing build dependencies ... \u001b[?25l\u001b[?25hdone\n",
            "  Getting requirements to build wheel ... \u001b[?25l\u001b[?25hdone\n",
            "  Preparing metadata (pyproject.toml) ... \u001b[?25l\u001b[?25hdone\n",
            "Requirement already satisfied: tqdm in /usr/local/lib/python3.11/dist-packages (from pyserini) (4.67.1)\n",
            "Requirement already satisfied: pyyaml in /usr/local/lib/python3.11/dist-packages (from pyserini) (6.0.2)\n",
            "Requirement already satisfied: requests in /usr/local/lib/python3.11/dist-packages (from pyserini) (2.32.3)\n",
            "Requirement already satisfied: Cython>=0.29.21 in /usr/local/lib/python3.11/dist-packages (from pyserini) (3.0.12)\n",
            "Requirement already satisfied: numpy>=1.18.1 in /usr/local/lib/python3.11/dist-packages (from pyserini) (2.0.2)\n",
            "Requirement already satisfied: pandas>=1.4.0 in /usr/local/lib/python3.11/dist-packages (from pyserini) (2.2.2)\n",
            "Collecting pyjnius>=1.6.0 (from pyserini)\n",
            "  Downloading pyjnius-1.6.1-cp311-cp311-manylinux_2_17_x86_64.manylinux2014_x86_64.whl.metadata (10 kB)\n",
            "Requirement already satisfied: scikit-learn>=0.22.1 in /usr/local/lib/python3.11/dist-packages (from pyserini) (1.6.1)\n",
            "Requirement already satisfied: scipy>=1.4.1 in /usr/local/lib/python3.11/dist-packages (from pyserini) (1.14.1)\n",
            "Requirement already satisfied: transformers>=4.6.0 in /usr/local/lib/python3.11/dist-packages (from pyserini) (4.50.3)\n",
            "Requirement already satisfied: torch>=2.4.0 in /usr/local/lib/python3.11/dist-packages (from pyserini) (2.6.0+cu124)\n",
            "Collecting onnxruntime>=1.8.1 (from pyserini)\n",
            "  Downloading onnxruntime-1.21.0-cp311-cp311-manylinux_2_27_x86_64.manylinux_2_28_x86_64.whl.metadata (4.5 kB)\n",
            "Requirement already satisfied: openai>=1.0.0 in /usr/local/lib/python3.11/dist-packages (from pyserini) (1.70.0)\n",
            "Requirement already satisfied: sentencepiece>=0.2 in /usr/local/lib/python3.11/dist-packages (from pyserini) (0.2.0)\n",
            "Collecting tiktoken>=0.4.0 (from pyserini)\n",
            "  Downloading tiktoken-0.9.0-cp311-cp311-manylinux_2_17_x86_64.manylinux2014_x86_64.whl.metadata (6.7 kB)\n",
            "Requirement already satisfied: flask>3.0 in /usr/local/lib/python3.11/dist-packages (from pyserini) (3.1.0)\n",
            "Requirement already satisfied: pillow>=10.2.0 in /usr/local/lib/python3.11/dist-packages (from pyserini) (11.1.0)\n",
            "Requirement already satisfied: Werkzeug>=3.1 in /usr/local/lib/python3.11/dist-packages (from flask>3.0->pyserini) (3.1.3)\n",
            "Requirement already satisfied: Jinja2>=3.1.2 in /usr/local/lib/python3.11/dist-packages (from flask>3.0->pyserini) (3.1.6)\n",
            "Requirement already satisfied: itsdangerous>=2.2 in /usr/local/lib/python3.11/dist-packages (from flask>3.0->pyserini) (2.2.0)\n",
            "Requirement already satisfied: click>=8.1.3 in /usr/local/lib/python3.11/dist-packages (from flask>3.0->pyserini) (8.1.8)\n",
            "Requirement already satisfied: blinker>=1.9 in /usr/local/lib/python3.11/dist-packages (from flask>3.0->pyserini) (1.9.0)\n",
            "Collecting coloredlogs (from onnxruntime>=1.8.1->pyserini)\n",
            "  Downloading coloredlogs-15.0.1-py2.py3-none-any.whl.metadata (12 kB)\n",
            "Requirement already satisfied: flatbuffers in /usr/local/lib/python3.11/dist-packages (from onnxruntime>=1.8.1->pyserini) (25.2.10)\n",
            "Requirement already satisfied: packaging in /usr/local/lib/python3.11/dist-packages (from onnxruntime>=1.8.1->pyserini) (24.2)\n",
            "Requirement already satisfied: protobuf in /usr/local/lib/python3.11/dist-packages (from onnxruntime>=1.8.1->pyserini) (5.29.4)\n",
            "Requirement already satisfied: sympy in /usr/local/lib/python3.11/dist-packages (from onnxruntime>=1.8.1->pyserini) (1.13.1)\n",
            "Requirement already satisfied: anyio<5,>=3.5.0 in /usr/local/lib/python3.11/dist-packages (from openai>=1.0.0->pyserini) (4.9.0)\n",
            "Requirement already satisfied: distro<2,>=1.7.0 in /usr/local/lib/python3.11/dist-packages (from openai>=1.0.0->pyserini) (1.9.0)\n",
            "Requirement already satisfied: httpx<1,>=0.23.0 in /usr/local/lib/python3.11/dist-packages (from openai>=1.0.0->pyserini) (0.28.1)\n",
            "Requirement already satisfied: jiter<1,>=0.4.0 in /usr/local/lib/python3.11/dist-packages (from openai>=1.0.0->pyserini) (0.9.0)\n",
            "Requirement already satisfied: pydantic<3,>=1.9.0 in /usr/local/lib/python3.11/dist-packages (from openai>=1.0.0->pyserini) (2.11.2)\n",
            "Requirement already satisfied: sniffio in /usr/local/lib/python3.11/dist-packages (from openai>=1.0.0->pyserini) (1.3.1)\n",
            "Requirement already satisfied: typing-extensions<5,>=4.11 in /usr/local/lib/python3.11/dist-packages (from openai>=1.0.0->pyserini) (4.13.1)\n",
            "Requirement already satisfied: python-dateutil>=2.8.2 in /usr/local/lib/python3.11/dist-packages (from pandas>=1.4.0->pyserini) (2.8.2)\n",
            "Requirement already satisfied: pytz>=2020.1 in /usr/local/lib/python3.11/dist-packages (from pandas>=1.4.0->pyserini) (2025.2)\n",
            "Requirement already satisfied: tzdata>=2022.7 in /usr/local/lib/python3.11/dist-packages (from pandas>=1.4.0->pyserini) (2025.2)\n",
            "Requirement already satisfied: joblib>=1.2.0 in /usr/local/lib/python3.11/dist-packages (from scikit-learn>=0.22.1->pyserini) (1.4.2)\n",
            "Requirement already satisfied: threadpoolctl>=3.1.0 in /usr/local/lib/python3.11/dist-packages (from scikit-learn>=0.22.1->pyserini) (3.6.0)\n",
            "Requirement already satisfied: regex>=2022.1.18 in /usr/local/lib/python3.11/dist-packages (from tiktoken>=0.4.0->pyserini) (2024.11.6)\n",
            "Requirement already satisfied: charset-normalizer<4,>=2 in /usr/local/lib/python3.11/dist-packages (from requests->pyserini) (3.4.1)\n",
            "Requirement already satisfied: idna<4,>=2.5 in /usr/local/lib/python3.11/dist-packages (from requests->pyserini) (3.10)\n",
            "Requirement already satisfied: urllib3<3,>=1.21.1 in /usr/local/lib/python3.11/dist-packages (from requests->pyserini) (2.3.0)\n",
            "Requirement already satisfied: certifi>=2017.4.17 in /usr/local/lib/python3.11/dist-packages (from requests->pyserini) (2025.1.31)\n",
            "Requirement already satisfied: filelock in /usr/local/lib/python3.11/dist-packages (from torch>=2.4.0->pyserini) (3.18.0)\n",
            "Requirement already satisfied: networkx in /usr/local/lib/python3.11/dist-packages (from torch>=2.4.0->pyserini) (3.4.2)\n",
            "Requirement already satisfied: fsspec in /usr/local/lib/python3.11/dist-packages (from torch>=2.4.0->pyserini) (2025.3.2)\n",
            "Collecting nvidia-cuda-nvrtc-cu12==12.4.127 (from torch>=2.4.0->pyserini)\n",
            "  Downloading nvidia_cuda_nvrtc_cu12-12.4.127-py3-none-manylinux2014_x86_64.whl.metadata (1.5 kB)\n",
            "Collecting nvidia-cuda-runtime-cu12==12.4.127 (from torch>=2.4.0->pyserini)\n",
            "  Downloading nvidia_cuda_runtime_cu12-12.4.127-py3-none-manylinux2014_x86_64.whl.metadata (1.5 kB)\n",
            "Collecting nvidia-cuda-cupti-cu12==12.4.127 (from torch>=2.4.0->pyserini)\n",
            "  Downloading nvidia_cuda_cupti_cu12-12.4.127-py3-none-manylinux2014_x86_64.whl.metadata (1.6 kB)\n",
            "Collecting nvidia-cudnn-cu12==9.1.0.70 (from torch>=2.4.0->pyserini)\n",
            "  Downloading nvidia_cudnn_cu12-9.1.0.70-py3-none-manylinux2014_x86_64.whl.metadata (1.6 kB)\n",
            "Collecting nvidia-cublas-cu12==12.4.5.8 (from torch>=2.4.0->pyserini)\n",
            "  Downloading nvidia_cublas_cu12-12.4.5.8-py3-none-manylinux2014_x86_64.whl.metadata (1.5 kB)\n",
            "Collecting nvidia-cufft-cu12==11.2.1.3 (from torch>=2.4.0->pyserini)\n",
            "  Downloading nvidia_cufft_cu12-11.2.1.3-py3-none-manylinux2014_x86_64.whl.metadata (1.5 kB)\n",
            "Collecting nvidia-curand-cu12==10.3.5.147 (from torch>=2.4.0->pyserini)\n",
            "  Downloading nvidia_curand_cu12-10.3.5.147-py3-none-manylinux2014_x86_64.whl.metadata (1.5 kB)\n",
            "Collecting nvidia-cusolver-cu12==11.6.1.9 (from torch>=2.4.0->pyserini)\n",
            "  Downloading nvidia_cusolver_cu12-11.6.1.9-py3-none-manylinux2014_x86_64.whl.metadata (1.6 kB)\n",
            "Collecting nvidia-cusparse-cu12==12.3.1.170 (from torch>=2.4.0->pyserini)\n",
            "  Downloading nvidia_cusparse_cu12-12.3.1.170-py3-none-manylinux2014_x86_64.whl.metadata (1.6 kB)\n",
            "Requirement already satisfied: nvidia-cusparselt-cu12==0.6.2 in /usr/local/lib/python3.11/dist-packages (from torch>=2.4.0->pyserini) (0.6.2)\n",
            "Requirement already satisfied: nvidia-nccl-cu12==2.21.5 in /usr/local/lib/python3.11/dist-packages (from torch>=2.4.0->pyserini) (2.21.5)\n",
            "Requirement already satisfied: nvidia-nvtx-cu12==12.4.127 in /usr/local/lib/python3.11/dist-packages (from torch>=2.4.0->pyserini) (12.4.127)\n",
            "Collecting nvidia-nvjitlink-cu12==12.4.127 (from torch>=2.4.0->pyserini)\n",
            "  Downloading nvidia_nvjitlink_cu12-12.4.127-py3-none-manylinux2014_x86_64.whl.metadata (1.5 kB)\n",
            "Requirement already satisfied: triton==3.2.0 in /usr/local/lib/python3.11/dist-packages (from torch>=2.4.0->pyserini) (3.2.0)\n",
            "Requirement already satisfied: mpmath<1.4,>=1.1.0 in /usr/local/lib/python3.11/dist-packages (from sympy->onnxruntime>=1.8.1->pyserini) (1.3.0)\n",
            "Requirement already satisfied: huggingface-hub<1.0,>=0.26.0 in /usr/local/lib/python3.11/dist-packages (from transformers>=4.6.0->pyserini) (0.30.1)\n",
            "Requirement already satisfied: tokenizers<0.22,>=0.21 in /usr/local/lib/python3.11/dist-packages (from transformers>=4.6.0->pyserini) (0.21.1)\n",
            "Requirement already satisfied: safetensors>=0.4.3 in /usr/local/lib/python3.11/dist-packages (from transformers>=4.6.0->pyserini) (0.5.3)\n",
            "Requirement already satisfied: httpcore==1.* in /usr/local/lib/python3.11/dist-packages (from httpx<1,>=0.23.0->openai>=1.0.0->pyserini) (1.0.7)\n",
            "Requirement already satisfied: h11<0.15,>=0.13 in /usr/local/lib/python3.11/dist-packages (from httpcore==1.*->httpx<1,>=0.23.0->openai>=1.0.0->pyserini) (0.14.0)\n",
            "Requirement already satisfied: MarkupSafe>=2.0 in /usr/local/lib/python3.11/dist-packages (from Jinja2>=3.1.2->flask>3.0->pyserini) (3.0.2)\n",
            "Requirement already satisfied: annotated-types>=0.6.0 in /usr/local/lib/python3.11/dist-packages (from pydantic<3,>=1.9.0->openai>=1.0.0->pyserini) (0.7.0)\n",
            "Requirement already satisfied: pydantic-core==2.33.1 in /usr/local/lib/python3.11/dist-packages (from pydantic<3,>=1.9.0->openai>=1.0.0->pyserini) (2.33.1)\n",
            "Requirement already satisfied: typing-inspection>=0.4.0 in /usr/local/lib/python3.11/dist-packages (from pydantic<3,>=1.9.0->openai>=1.0.0->pyserini) (0.4.0)\n",
            "Requirement already satisfied: six>=1.5 in /usr/local/lib/python3.11/dist-packages (from python-dateutil>=2.8.2->pandas>=1.4.0->pyserini) (1.17.0)\n",
            "Collecting humanfriendly>=9.1 (from coloredlogs->onnxruntime>=1.8.1->pyserini)\n",
            "  Downloading humanfriendly-10.0-py2.py3-none-any.whl.metadata (9.2 kB)\n",
            "Downloading onnxruntime-1.21.0-cp311-cp311-manylinux_2_27_x86_64.manylinux_2_28_x86_64.whl (16.0 MB)\n",
            "\u001b[2K   \u001b[90m━━━━━━━━━━━━━━━━━━━━━━━━━━━━━━━━━━━━━━━━\u001b[0m \u001b[32m16.0/16.0 MB\u001b[0m \u001b[31m65.9 MB/s\u001b[0m eta \u001b[36m0:00:00\u001b[0m\n",
            "\u001b[?25hDownloading pyjnius-1.6.1-cp311-cp311-manylinux_2_17_x86_64.manylinux2014_x86_64.whl (1.6 MB)\n",
            "\u001b[2K   \u001b[90m━━━━━━━━━━━━━━━━━━━━━━━━━━━━━━━━━━━━━━━━\u001b[0m \u001b[32m1.6/1.6 MB\u001b[0m \u001b[31m52.1 MB/s\u001b[0m eta \u001b[36m0:00:00\u001b[0m\n",
            "\u001b[?25hDownloading tiktoken-0.9.0-cp311-cp311-manylinux_2_17_x86_64.manylinux2014_x86_64.whl (1.2 MB)\n",
            "\u001b[2K   \u001b[90m━━━━━━━━━━━━━━━━━━━━━━━━━━━━━━━━━━━━━━━━\u001b[0m \u001b[32m1.2/1.2 MB\u001b[0m \u001b[31m42.4 MB/s\u001b[0m eta \u001b[36m0:00:00\u001b[0m\n",
            "\u001b[?25hDownloading nvidia_cublas_cu12-12.4.5.8-py3-none-manylinux2014_x86_64.whl (363.4 MB)\n",
            "\u001b[2K   \u001b[90m━━━━━━━━━━━━━━━━━━━━━━━━━━━━━━━━━━━━━━━━\u001b[0m \u001b[32m363.4/363.4 MB\u001b[0m \u001b[31m1.5 MB/s\u001b[0m eta \u001b[36m0:00:00\u001b[0m\n",
            "\u001b[?25hDownloading nvidia_cuda_cupti_cu12-12.4.127-py3-none-manylinux2014_x86_64.whl (13.8 MB)\n",
            "\u001b[2K   \u001b[90m━━━━━━━━━━━━━━━━━━━━━━━━━━━━━━━━━━━━━━━━\u001b[0m \u001b[32m13.8/13.8 MB\u001b[0m \u001b[31m74.3 MB/s\u001b[0m eta \u001b[36m0:00:00\u001b[0m\n",
            "\u001b[?25hDownloading nvidia_cuda_nvrtc_cu12-12.4.127-py3-none-manylinux2014_x86_64.whl (24.6 MB)\n",
            "\u001b[2K   \u001b[90m━━━━━━━━━━━━━━━━━━━━━━━━━━━━━━━━━━━━━━━━\u001b[0m \u001b[32m24.6/24.6 MB\u001b[0m \u001b[31m60.6 MB/s\u001b[0m eta \u001b[36m0:00:00\u001b[0m\n",
            "\u001b[?25hDownloading nvidia_cuda_runtime_cu12-12.4.127-py3-none-manylinux2014_x86_64.whl (883 kB)\n",
            "\u001b[2K   \u001b[90m━━━━━━━━━━━━━━━━━━━━━━━━━━━━━━━━━━━━━━━━\u001b[0m \u001b[32m883.7/883.7 kB\u001b[0m \u001b[31m45.0 MB/s\u001b[0m eta \u001b[36m0:00:00\u001b[0m\n",
            "\u001b[?25hDownloading nvidia_cudnn_cu12-9.1.0.70-py3-none-manylinux2014_x86_64.whl (664.8 MB)\n",
            "\u001b[2K   \u001b[90m━━━━━━━━━━━━━━━━━━━━━━━━━━━━━━━━━━━━━━━━\u001b[0m \u001b[32m664.8/664.8 MB\u001b[0m \u001b[31m2.7 MB/s\u001b[0m eta \u001b[36m0:00:00\u001b[0m\n",
            "\u001b[?25hDownloading nvidia_cufft_cu12-11.2.1.3-py3-none-manylinux2014_x86_64.whl (211.5 MB)\n",
            "\u001b[2K   \u001b[90m━━━━━━━━━━━━━━━━━━━━━━━━━━━━━━━━━━━━━━━━\u001b[0m \u001b[32m211.5/211.5 MB\u001b[0m \u001b[31m5.9 MB/s\u001b[0m eta \u001b[36m0:00:00\u001b[0m\n",
            "\u001b[?25hDownloading nvidia_curand_cu12-10.3.5.147-py3-none-manylinux2014_x86_64.whl (56.3 MB)\n",
            "\u001b[2K   \u001b[90m━━━━━━━━━━━━━━━━━━━━━━━━━━━━━━━━━━━━━━━━\u001b[0m \u001b[32m56.3/56.3 MB\u001b[0m \u001b[31m10.7 MB/s\u001b[0m eta \u001b[36m0:00:00\u001b[0m\n",
            "\u001b[?25hDownloading nvidia_cusolver_cu12-11.6.1.9-py3-none-manylinux2014_x86_64.whl (127.9 MB)\n",
            "\u001b[2K   \u001b[90m━━━━━━━━━━━━━━━━━━━━━━━━━━━━━━━━━━━━━━━━\u001b[0m \u001b[32m127.9/127.9 MB\u001b[0m \u001b[31m7.6 MB/s\u001b[0m eta \u001b[36m0:00:00\u001b[0m\n",
            "\u001b[?25hDownloading nvidia_cusparse_cu12-12.3.1.170-py3-none-manylinux2014_x86_64.whl (207.5 MB)\n",
            "\u001b[2K   \u001b[90m━━━━━━━━━━━━━━━━━━━━━━━━━━━━━━━━━━━━━━━━\u001b[0m \u001b[32m207.5/207.5 MB\u001b[0m \u001b[31m5.7 MB/s\u001b[0m eta \u001b[36m0:00:00\u001b[0m\n",
            "\u001b[?25hDownloading nvidia_nvjitlink_cu12-12.4.127-py3-none-manylinux2014_x86_64.whl (21.1 MB)\n",
            "\u001b[2K   \u001b[90m━━━━━━━━━━━━━━━━━━━━━━━━━━━━━━━━━━━━━━━━\u001b[0m \u001b[32m21.1/21.1 MB\u001b[0m \u001b[31m61.0 MB/s\u001b[0m eta \u001b[36m0:00:00\u001b[0m\n",
            "\u001b[?25hDownloading coloredlogs-15.0.1-py2.py3-none-any.whl (46 kB)\n",
            "\u001b[2K   \u001b[90m━━━━━━━━━━━━━━━━━━━━━━━━━━━━━━━━━━━━━━━━\u001b[0m \u001b[32m46.0/46.0 kB\u001b[0m \u001b[31m2.7 MB/s\u001b[0m eta \u001b[36m0:00:00\u001b[0m\n",
            "\u001b[?25hDownloading humanfriendly-10.0-py2.py3-none-any.whl (86 kB)\n",
            "\u001b[2K   \u001b[90m━━━━━━━━━━━━━━━━━━━━━━━━━━━━━━━━━━━━━━━━\u001b[0m \u001b[32m86.8/86.8 kB\u001b[0m \u001b[31m4.9 MB/s\u001b[0m eta \u001b[36m0:00:00\u001b[0m\n",
            "\u001b[?25hBuilding wheels for collected packages: pyserini\n",
            "  Building wheel for pyserini (pyproject.toml) ... \u001b[?25l\u001b[?25hdone\n",
            "  Created wheel for pyserini: filename=pyserini-0.44.0-py3-none-any.whl size=195388880 sha256=e7f8fb7a2aed758f228f795a509464c507d3b72fbe59d1176898f36e0b5c7ba4\n",
            "  Stored in directory: /root/.cache/pip/wheels/4d/fb/2c/523bde7d33a5dd4d0da19070ad3c96113f2b0face35a863f25\n",
            "Successfully built pyserini\n",
            "Installing collected packages: pyjnius, nvidia-nvjitlink-cu12, nvidia-curand-cu12, nvidia-cufft-cu12, nvidia-cuda-runtime-cu12, nvidia-cuda-nvrtc-cu12, nvidia-cuda-cupti-cu12, nvidia-cublas-cu12, humanfriendly, tiktoken, nvidia-cusparse-cu12, nvidia-cudnn-cu12, coloredlogs, onnxruntime, nvidia-cusolver-cu12, pyserini\n",
            "  Attempting uninstall: nvidia-nvjitlink-cu12\n",
            "    Found existing installation: nvidia-nvjitlink-cu12 12.5.82\n",
            "    Uninstalling nvidia-nvjitlink-cu12-12.5.82:\n",
            "      Successfully uninstalled nvidia-nvjitlink-cu12-12.5.82\n",
            "  Attempting uninstall: nvidia-curand-cu12\n",
            "    Found existing installation: nvidia-curand-cu12 10.3.6.82\n",
            "    Uninstalling nvidia-curand-cu12-10.3.6.82:\n",
            "      Successfully uninstalled nvidia-curand-cu12-10.3.6.82\n",
            "  Attempting uninstall: nvidia-cufft-cu12\n",
            "    Found existing installation: nvidia-cufft-cu12 11.2.3.61\n",
            "    Uninstalling nvidia-cufft-cu12-11.2.3.61:\n",
            "      Successfully uninstalled nvidia-cufft-cu12-11.2.3.61\n",
            "  Attempting uninstall: nvidia-cuda-runtime-cu12\n",
            "    Found existing installation: nvidia-cuda-runtime-cu12 12.5.82\n",
            "    Uninstalling nvidia-cuda-runtime-cu12-12.5.82:\n",
            "      Successfully uninstalled nvidia-cuda-runtime-cu12-12.5.82\n",
            "  Attempting uninstall: nvidia-cuda-nvrtc-cu12\n",
            "    Found existing installation: nvidia-cuda-nvrtc-cu12 12.5.82\n",
            "    Uninstalling nvidia-cuda-nvrtc-cu12-12.5.82:\n",
            "      Successfully uninstalled nvidia-cuda-nvrtc-cu12-12.5.82\n",
            "  Attempting uninstall: nvidia-cuda-cupti-cu12\n",
            "    Found existing installation: nvidia-cuda-cupti-cu12 12.5.82\n",
            "    Uninstalling nvidia-cuda-cupti-cu12-12.5.82:\n",
            "      Successfully uninstalled nvidia-cuda-cupti-cu12-12.5.82\n",
            "  Attempting uninstall: nvidia-cublas-cu12\n",
            "    Found existing installation: nvidia-cublas-cu12 12.5.3.2\n",
            "    Uninstalling nvidia-cublas-cu12-12.5.3.2:\n",
            "      Successfully uninstalled nvidia-cublas-cu12-12.5.3.2\n",
            "  Attempting uninstall: nvidia-cusparse-cu12\n",
            "    Found existing installation: nvidia-cusparse-cu12 12.5.1.3\n",
            "    Uninstalling nvidia-cusparse-cu12-12.5.1.3:\n",
            "      Successfully uninstalled nvidia-cusparse-cu12-12.5.1.3\n",
            "  Attempting uninstall: nvidia-cudnn-cu12\n",
            "    Found existing installation: nvidia-cudnn-cu12 9.3.0.75\n",
            "    Uninstalling nvidia-cudnn-cu12-9.3.0.75:\n",
            "      Successfully uninstalled nvidia-cudnn-cu12-9.3.0.75\n",
            "  Attempting uninstall: nvidia-cusolver-cu12\n",
            "    Found existing installation: nvidia-cusolver-cu12 11.6.3.83\n",
            "    Uninstalling nvidia-cusolver-cu12-11.6.3.83:\n",
            "      Successfully uninstalled nvidia-cusolver-cu12-11.6.3.83\n",
            "Successfully installed coloredlogs-15.0.1 humanfriendly-10.0 nvidia-cublas-cu12-12.4.5.8 nvidia-cuda-cupti-cu12-12.4.127 nvidia-cuda-nvrtc-cu12-12.4.127 nvidia-cuda-runtime-cu12-12.4.127 nvidia-cudnn-cu12-9.1.0.70 nvidia-cufft-cu12-11.2.1.3 nvidia-curand-cu12-10.3.5.147 nvidia-cusolver-cu12-11.6.1.9 nvidia-cusparse-cu12-12.3.1.170 nvidia-nvjitlink-cu12-12.4.127 onnxruntime-1.21.0 pyjnius-1.6.1 pyserini-0.44.0 tiktoken-0.9.0\n",
            "Collecting faiss-cpu\n",
            "  Downloading faiss_cpu-1.10.0-cp311-cp311-manylinux_2_28_x86_64.whl.metadata (4.4 kB)\n",
            "Requirement already satisfied: numpy<3.0,>=1.25.0 in /usr/local/lib/python3.11/dist-packages (from faiss-cpu) (2.0.2)\n",
            "Requirement already satisfied: packaging in /usr/local/lib/python3.11/dist-packages (from faiss-cpu) (24.2)\n",
            "Downloading faiss_cpu-1.10.0-cp311-cp311-manylinux_2_28_x86_64.whl (30.7 MB)\n",
            "\u001b[2K   \u001b[90m━━━━━━━━━━━━━━━━━━━━━━━━━━━━━━━━━━━━━━━━\u001b[0m \u001b[32m30.7/30.7 MB\u001b[0m \u001b[31m48.6 MB/s\u001b[0m eta \u001b[36m0:00:00\u001b[0m\n",
            "\u001b[?25hInstalling collected packages: faiss-cpu\n",
            "Successfully installed faiss-cpu-1.10.0\n"
          ]
        }
      ]
    },
    {
      "cell_type": "markdown",
      "metadata": {
        "id": "NkD0kKxW9mHP"
      },
      "source": [
        "We initialize the searcher with a pre-built index for the Robust04 collection, which Pyserini will automatically download if it hasn't already. Note that the index takes up 1.6GB of disk."
      ]
    },
    {
      "cell_type": "code",
      "metadata": {
        "id": "zVoAZvuAI_la",
        "colab": {
          "base_uri": "https://localhost:8080/"
        },
        "outputId": "40ab9a67-f545-47ba-e381-7e41cc1b7fba"
      },
      "source": [
        "from pyserini.search.lucene import LuceneSearcher\n",
        "\n",
        "searcher = LuceneSearcher.from_prebuilt_index('robust04')"
      ],
      "execution_count": 4,
      "outputs": [
        {
          "output_type": "stream",
          "name": "stdout",
          "text": [
            "Downloading index at https://rgw.cs.uwaterloo.ca/pyserini/indexes/lucene/lucene-inverted.disk45.20240803.36f7e3.tar.gz...\n"
          ]
        },
        {
          "output_type": "stream",
          "name": "stderr",
          "text": [
            "lucene-inverted.disk45.20240803.36f7e3.tar.gz: 1.66GB [00:38, 46.8MB/s]                            \n"
          ]
        }
      ]
    },
    {
      "cell_type": "markdown",
      "metadata": {
        "id": "N6xHyonHJDKy"
      },
      "source": [
        "Now we can search for a query and inspect the results:"
      ]
    },
    {
      "cell_type": "code",
      "metadata": {
        "id": "yFZlcqEX0t1f",
        "colab": {
          "base_uri": "https://localhost:8080/"
        },
        "outputId": "1fcd2fc9-4150-42d0-abf1-af8db05ae565"
      },
      "source": [
        "hits = searcher.search('black bear attacks', 1000)\n",
        "\n",
        "# Prints the first 10 hits\n",
        "for i in range(0, 10):\n",
        "    print(f'{i+1:2} {hits[i].docid:15} {hits[i].score:.5f}')"
      ],
      "execution_count": 5,
      "outputs": [
        {
          "output_type": "stream",
          "name": "stdout",
          "text": [
            " 1 LA092790-0015   7.06680\n",
            " 2 LA081689-0039   6.89020\n",
            " 3 FBIS4-16530     6.61630\n",
            " 4 LA102589-0076   6.46450\n",
            " 5 FT932-15491     6.25090\n",
            " 6 FBIS3-12276     6.24630\n",
            " 7 LA091090-0085   6.17030\n",
            " 8 FT922-13519     6.04270\n",
            " 9 LA052790-0205   5.94060\n",
            "10 LA103089-0041   5.90650\n"
          ]
        }
      ]
    },
    {
      "cell_type": "markdown",
      "metadata": {
        "id": "emoSTga_7fOB"
      },
      "source": [
        "The `IndexReaderUtils` class provides various methods to read the index directly. For example, we can fetch a raw document from the index given its `docid`:"
      ]
    },
    {
      "cell_type": "code",
      "metadata": {
        "id": "N5ApT1YG71mz",
        "colab": {
          "base_uri": "https://localhost:8080/",
          "height": 599
        },
        "outputId": "05f6bfaa-5511-4b11-a2d0-c0f8289383bd"
      },
      "source": [
        "from pyserini.index import LuceneIndexReader\n",
        "from IPython.core.display import display, HTML\n",
        "\n",
        "reader = LuceneIndexReader.from_prebuilt_index('robust04')\n",
        "\n",
        "doc = reader.doc('LA092790-0015').raw()\n",
        "display(HTML('<div style=\"font-family: Times New Roman; padding-bottom:10px\">' + doc + '</div>'))"
      ],
      "execution_count": 6,
      "outputs": [
        {
          "output_type": "display_data",
          "data": {
            "text/plain": [
              "<IPython.core.display.HTML object>"
            ],
            "text/html": [
              "<div style=\"font-family: Times New Roman; padding-bottom:10px\"><DATE>\n",
              "<P>\n",
              "September 27, 1990, Thursday, Ventura County Edition\n",
              "</P>\n",
              "</DATE>\n",
              "<HEADLINE>\n",
              "<P>\n",
              "HUNGRY WILDLIFE STRAYING INTO SUBURBS;\n",
              "</P>\n",
              "<P>\n",
              "DROUGHT: FOUR DRY YEARS HAVE PARCHED NATIVE VEGETATION, FORCING BOBCATS, BEARS,\n",
              "MOUNTAIN LIONS, DEER AND COYOTES TO FORAGE CLOSER TO INHABITED AREAS.\n",
              "</P>\n",
              "</HEADLINE>\n",
              "<TEXT>\n",
              "<P>\n",
              "Hungry bobcats, bears and mountain lions -- unable to find food in Ventura\n",
              "County's drought-parched forests -- are being pushed out of their natural\n",
              "habitats to scavenge in rural communities, game officials said Wednesday.\n",
              "</P>\n",
              "<P>\n",
              "Two weeks ago, a black bear ripped the door off a trailer home in Rose Valley\n",
              "just north of Ojai. And within the past month, there have been several reports\n",
              "of mountain lions eating livestock near Los Padres National Forest. Several\n",
              "bobcats have been reported near houses in the Ojai Valley.\n",
              "</P>\n",
              "<P>\n",
              "Authorities say that over the past two years they have received twice the\n",
              "complaints -- about 20 a month -- of wild animals in populated areas. The\n",
              "drought is now in its fourth year in California.\n",
              "</P>\n",
              "<P>\n",
              "\"We've been having more and more conflicts with animals,\" said Capt. Roger\n",
              "Reese, with the state Department of Fish and Game. \"The fact is, it's very dry\n",
              "out there, and there just isn't a lot of food and water for them.\"\n",
              "</P>\n",
              "<P>\n",
              "Animal control officials say they are advising residents in rural areas to be\n",
              "aware of the problem. But so far, no one has been attacked by the wild animals,\n",
              "although there have been such attacks reported elsewhere in Southern\n",
              "California, authorities said.\n",
              "</P>\n",
              "<P>\n",
              "Coyotes have been running amok, officials said. Virtually all parts of the\n",
              "county except beach areas probably have been visited at one time or another by\n",
              "coyotes, said Kathy Jenks, director of the Ventura County Department of Animal\n",
              "Regulation.\n",
              "</P>\n",
              "<P>\n",
              "In Ventura, coyotes are often seen in Grant Park above City Hall, and in Arroyo\n",
              "Verde Park in the Ondulando district on the east side, Jenks said.\n",
              "</P>\n",
              "<P>\n",
              "Elsewhere, coyotes have been seen on streets in Thousand Oaks, Moorpark and\n",
              "Simi Valley. The rural, foothill developments are especially vulnerable, she\n",
              "said.\n",
              "</P>\n",
              "<P>\n",
              "Jenks said she advises residents to keep small pets inside, especially at\n",
              "night.\n",
              "</P>\n",
              "<P>\n",
              "There have even been a few cases in which brazen coyotes have attacked family\n",
              "animals in back yards, and a large number of house cats are disappearing,\n",
              "officials said.\n",
              "</P>\n",
              "<P>\n",
              "\"The common house cat is like a fancy feast for a coyote,\" she said. \"They're\n",
              "hungry, they're thirsty and they're coming down out of the hills.\"\n",
              "</P>\n",
              "<P>\n",
              "There have been a few reports of deer grazing in people's yards, Reese said.\n",
              "</P>\n",
              "<P>\n",
              "Traditionally, September is the worst month for wildlife, authorities said.\n",
              "</P>\n",
              "<P>\n",
              "\"It is usually the driest month,\" Reese said. \"And a lot of animals that have\n",
              "been raised in the spring leave their parents and go in search of food.\"\n",
              "</P>\n",
              "<P>\n",
              "More animals are expected to leave their natural habitats if the drought\n",
              "continues, officials said.\n",
              "</P>\n",
              "<P>\n",
              "\"I tell people who call that if we didn't have the big cats and the coyotes, we\n",
              "would be overrun by rodents,\" Jenks said. \"I would much rather hear a coyote in\n",
              "the distance than have roof rats.\"\n",
              "</P>\n",
              "<P>\n",
              "Don DeBusschere, who lives on a 45-acre walnut orchard in Happy Valley near\n",
              "Ojai, said his family has grown accustomed to wild animals. DeBusschere said he\n",
              "has seen scores of coyotes, several deer and a black bear.\n",
              "</P>\n",
              "<P>\n",
              "Recently, he said, two bobcats have moved into the trees on the edge of his\n",
              "property.\n",
              "</P>\n",
              "<P>\n",
              "\"They're not out to get humans,\" DeBusschere said. \"They're just trying to make\n",
              "a living off the land.\"\n",
              "</P>\n",
              "</TEXT></div>"
            ]
          },
          "metadata": {}
        }
      ]
    },
    {
      "cell_type": "markdown",
      "metadata": {
        "id": "1RMfMgWt8bgm"
      },
      "source": [
        "Note that the result is exactly the same as displaying the hit contents above. Given the raw text, we can obtain its analyzed form (i.e., tokenized, stemmed, stopwords removed, etc.). Here we show the first ten tokens:"
      ]
    },
    {
      "cell_type": "code",
      "source": [
        "analyzed = reader.analyze(doc)\n",
        "analyzed[0:10]"
      ],
      "metadata": {
        "id": "0opezXf5E0IW",
        "outputId": "9c5dcf9f-c386-485f-ed60-73b474694de0",
        "colab": {
          "base_uri": "https://localhost:8080/"
        }
      },
      "execution_count": 7,
      "outputs": [
        {
          "output_type": "execute_result",
          "data": {
            "text/plain": [
              "['date',\n",
              " 'p',\n",
              " 'septemb',\n",
              " '27',\n",
              " '1990',\n",
              " 'thursdai',\n",
              " 'ventura',\n",
              " 'counti',\n",
              " 'edit',\n",
              " 'p']"
            ]
          },
          "metadata": {},
          "execution_count": 7
        }
      ]
    },
    {
      "cell_type": "markdown",
      "source": [
        "## Retrieving Initial Ranked Lists\n",
        "\n",
        "We can load some standard evaluation sets such as Robust04, which contains 250 queries, or \"topics\" as the TREC conferences call them."
      ],
      "metadata": {
        "id": "GOFVMQKLyW1S"
      }
    },
    {
      "cell_type": "code",
      "source": [
        "from pyserini.search import get_topics\n",
        "topics = get_topics('robust04')\n",
        "print(f'{len(topics)} queries total')"
      ],
      "metadata": {
        "colab": {
          "base_uri": "https://localhost:8080/"
        },
        "id": "Q1sdhbDTdwqf",
        "outputId": "13377e46-7fcc-4d39-fc14-54eefdd76b31"
      },
      "execution_count": 8,
      "outputs": [
        {
          "output_type": "stream",
          "name": "stdout",
          "text": [
            "250 queries total\n"
          ]
        }
      ]
    },
    {
      "cell_type": "markdown",
      "source": [
        "The topics are in a dictionary, whose keys are integers uniquely identifying each query. Each topic contains the following fields:\n",
        "\n",
        "* `title`: TREC's term for the brief query a user might actually type;\n",
        "* `description`: a longer form of the query in the form of a complete sentence; and\n",
        "* `narrative`: a description of what the user is looking for and what kinds of results would be relevant or non-relevant."
      ],
      "metadata": {
        "id": "RbODj6sezBvB"
      }
    },
    {
      "cell_type": "code",
      "source": [
        "topics[301]"
      ],
      "metadata": {
        "colab": {
          "base_uri": "https://localhost:8080/"
        },
        "id": "KBOeSkJxy-8R",
        "outputId": "eb318b9e-4a44-4281-f836-5d925d1a8f29"
      },
      "execution_count": null,
      "outputs": [
        {
          "output_type": "execute_result",
          "data": {
            "text/plain": [
              "{'narrative': 'A relevant document must as a minimum identify the organization and the type of illegal activity (e.g., Columbian cartel exporting cocaine). Vague references to international drug trade without identification of the organization(s) involved would not be relevant.',\n",
              " 'description': 'Identify organizations that participate in international criminal activity, the activity, and, if possible, collaborating organizations and the countries involved.',\n",
              " 'title': 'International Organized Crime'}"
            ]
          },
          "metadata": {},
          "execution_count": 8
        }
      ]
    },
    {
      "cell_type": "markdown",
      "source": [
        "For the purpose of your experiments, we'll divide them into a development and test set."
      ],
      "metadata": {
        "id": "gMbgbZVqyzdj"
      }
    },
    {
      "cell_type": "code",
      "source": [
        "dev_topics = {k:topics[k] for k in list(topics.keys())[:125]}\n",
        "test_topics = {k:topics[k] for k in list(topics.keys())[125:]}"
      ],
      "metadata": {
        "id": "LILkqQDqd3Tj"
      },
      "execution_count": 9,
      "outputs": []
    },
    {
      "cell_type": "markdown",
      "source": [
        "Now, we'll fetch the relevance judgments for the Robust04 queries, which TREC calls \"qrels\"."
      ],
      "metadata": {
        "id": "HTY9-DMyzuU5"
      }
    },
    {
      "cell_type": "code",
      "source": [
        "from urllib.request import urlopen\n",
        "\n",
        "qfile = 'https://github.com/castorini/anserini-tools/blob/63ceeab1dd94c1221f29b931d868e8fab67cc25c/topics-and-qrels/qrels.robust04.txt?raw=true'\n",
        "qrels = []\n",
        "for line in urlopen(qfile):\n",
        "  qid, round, docid, score = line.strip().split()\n",
        "  qrels.append([int(qid), 0, docid.decode('UTF-8'), int(score)])\n",
        "#qrels = [line.strip().split() for line in urlopen(qfile)]"
      ],
      "metadata": {
        "id": "b53vacvvf6fw"
      },
      "execution_count": 10,
      "outputs": []
    },
    {
      "cell_type": "markdown",
      "source": [
        "Each record in the qrel contains four fields:\n",
        "\n",
        "1. the numeric identifier of the query;\n",
        "2. the round of relevance feedback, which is here always 0;\n",
        "3. the identifier of a documennt that has been judged; and\n",
        "4. the relevance score of that document.\n",
        "\n",
        "In Robust04, all relevance judgments are binary, i.e., 1 or 0. Note that not all non-relevant documents are recorded. The qrel file only contains those documents the annotators actually looked at; the vast majority of documents in the collection have not been judged. In IR evaluation, we assume that unannotated documents are non-relevant."
      ],
      "metadata": {
        "id": "BXg8YO590Aky"
      }
    },
    {
      "cell_type": "code",
      "source": [
        "qrels[0:10]"
      ],
      "metadata": {
        "colab": {
          "base_uri": "https://localhost:8080/"
        },
        "id": "ZJblOI_pgZBh",
        "outputId": "2596984f-322c-4913-9898-d9635c73faf3"
      },
      "execution_count": 11,
      "outputs": [
        {
          "output_type": "execute_result",
          "data": {
            "text/plain": [
              "[[301, 0, 'FBIS3-10082', 1],\n",
              " [301, 0, 'FBIS3-10169', 0],\n",
              " [301, 0, 'FBIS3-10243', 1],\n",
              " [301, 0, 'FBIS3-10319', 0],\n",
              " [301, 0, 'FBIS3-10397', 1],\n",
              " [301, 0, 'FBIS3-10491', 1],\n",
              " [301, 0, 'FBIS3-10555', 0],\n",
              " [301, 0, 'FBIS3-10622', 1],\n",
              " [301, 0, 'FBIS3-10634', 0],\n",
              " [301, 0, 'FBIS3-10635', 0]]"
            ]
          },
          "metadata": {},
          "execution_count": 11
        }
      ]
    },
    {
      "cell_type": "markdown",
      "source": [
        "We collect the top 1000 hists for both the dev and test sets. You"
      ],
      "metadata": {
        "id": "aUJ9D9KMHVrD"
      }
    },
    {
      "cell_type": "code",
      "source": [
        "# Compute top-1000 lists for queries in test_topics\n",
        "def topic_hits(searcher, topics, k=1000):\n",
        "  hits = {}\n",
        "  for topic, info in topics.items():\n",
        "    print(topic, info['title'])\n",
        "    hits[topic] = [(hit.docid, hit.score) for hit in searcher.search(info['title'], k)]\n",
        "  return hits\n",
        "\n",
        "dev_hits = topic_hits(searcher, dev_topics)\n",
        "test_hits = topic_hits(searcher, test_topics)"
      ],
      "metadata": {
        "id": "Ue-97Z5nGcH4",
        "outputId": "4d5891eb-6e33-44e0-e375-c07619990784",
        "colab": {
          "base_uri": "https://localhost:8080/"
        }
      },
      "execution_count": 12,
      "outputs": [
        {
          "output_type": "stream",
          "name": "stdout",
          "text": [
            "350 Health and Computer Terminals\n",
            "351 Falkland petroleum exploration\n",
            "352 British Chunnel impact\n",
            "353 Antarctica exploration\n",
            "354 journalist risks\n",
            "355 ocean remote sensing\n",
            "356 postmenopausal estrogen Britain\n",
            "357 territorial waters dispute\n",
            "358 blood-alcohol fatalities\n",
            "359 mutual fund predictors\n",
            "360 drug legalization benefits\n",
            "361 clothing sweatshops\n",
            "362 human smuggling\n",
            "363 transportation tunnel disasters\n",
            "364 rabies\n",
            "365 El Nino\n",
            "366 commercial cyanide uses\n",
            "367 piracy\n",
            "368 in vitro fertilization\n",
            "369 anorexia nervosa bulimia\n",
            "370 food/drug laws\n",
            "371 health insurance holistic\n",
            "372 Native American casino\n",
            "373 encryption equipment export\n",
            "374 Nobel prize winners\n",
            "375 hydrogen energy\n",
            "376 World Court\n",
            "377 cigar smoking\n",
            "378 euro opposition\n",
            "379 mainstreaming\n",
            "380 obesity medical treatment\n",
            "381 alternative medicine\n",
            "382 hydrogen fuel automobiles\n",
            "383 mental illness drugs\n",
            "384 space station moon\n",
            "385 hybrid fuel cars\n",
            "386 teaching disabled children\n",
            "387 radioactive waste\n",
            "388 organic soil enhancement\n",
            "389 illegal technology transfer\n",
            "700 gasoline tax U.S.\n",
            "390 orphan drugs\n",
            "391 R&D drug prices\n",
            "392 robotics\n",
            "393 mercy killing\n",
            "394 home schooling\n",
            "395 tourism\n",
            "396 sick building syndrome\n",
            "397 automobile recalls\n",
            "398 dismantling Europe's arsenal\n",
            "399 oceanographic vessels\n",
            "601 Turkey Iraq water\n",
            "602 Czech, Slovak sovereignty\n",
            "603 Tobacco cigarette lawsuit\n",
            "604 Lyme disease arthritis\n",
            "605 Great Britain health care\n",
            "606 leg traps ban\n",
            "607 human genetic code\n",
            "608 taxing social security\n",
            "609 per capita alcohol consumption\n",
            "610 minimum wage adverse impact\n",
            "611 Kurds Germany violence\n",
            "612 Tibet protesters\n",
            "613 Berlin wall disposal\n",
            "614 Flavr Savr tomato\n",
            "615 timber exports Asia\n",
            "616 Volkswagen Mexico\n",
            "617 Russia Cuba economy\n",
            "618 Ayatollah Khomeini death\n",
            "619 Winnie Mandela scandal\n",
            "620 France nuclear testing\n",
            "621 women ordained Church of England\n",
            "622 price fixing\n",
            "623 toxic chemical weapon\n",
            "624 SDI Star Wars\n",
            "625 arrests bombing WTC\n",
            "626 human stampede\n",
            "627 Russian food crisis\n",
            "628 U.S. invasion of Panama\n",
            "629 abortion clinic attack\n",
            "630 Gulf War Syndrome\n",
            "631 Mandela South Africa President\n",
            "632 southeast Asia tin mining\n",
            "633 Welsh devolution\n",
            "634 L-tryptophan deaths\n",
            "635 doctor assisted suicides\n",
            "636 jury duty exemptions\n",
            "637 human growth hormone (HGH)\n",
            "638 wrongful convictions\n",
            "639 consumer on-line shopping\n",
            "640 maternity leave policies\n",
            "641 Valdez wildlife marine life\n",
            "400 Amazon rain forest\n",
            "642 Tiananmen Square protesters\n",
            "401 foreign minorities, Germany\n",
            "643 salmon dams Pacific northwest\n",
            "402 behavioral genetics\n",
            "644 exotic animals import\n",
            "403 osteoporosis\n",
            "645 software piracy\n",
            "404 Ireland, peace talks\n",
            "646 food stamps increase\n",
            "405 cosmic events\n",
            "647 windmill electricity\n",
            "406 Parkinson's disease\n",
            "648 family leave law\n",
            "407 poaching, wildlife preserves\n",
            "649 computer viruses\n",
            "408 tropical storms\n",
            "409 legal, Pan Am, 103\n",
            "650 tax evasion indicted\n",
            "651 U.S. ethnic population\n",
            "410 Schengen agreement\n",
            "652 OIC Balkans 1990s\n",
            "411 salvaging, shipwreck, treasure\n",
            "653 ETA Basque terrorism\n",
            "412 airport security\n",
            "654 same-sex schools\n",
            "413 steel production\n",
            "655 ADD diagnosis treatment\n",
            "414 Cuba, sugar, exports\n",
            "656 lead poisoning children\n",
            "415 drugs, Golden Triangle\n",
            "657 school prayer banned\n",
            "416 Three Gorges Project\n",
            "658 teenage pregnancy\n",
            "417 creativity\n",
            "659 cruise health safety\n",
            "418 quilts, income\n",
            "419 recycle, automobile tires\n",
            "660 whale watching California\n",
            "661 melanoma treatment causes\n",
            "420 carbon monoxide poisoning\n",
            "662 telemarketer protection\n",
            "421 industrial waste disposal\n",
            "663 Agent Orange exposure\n",
            "301 International Organized Crime\n",
            "422 art, stolen, forged\n",
            "664 American Indian Museum\n",
            "302 Poliomyelitis and Post-Polio\n",
            "423 Milosevic, Mirjana Markovic\n",
            "665 poverty Africa sub-Sahara\n",
            "303 Hubble Telescope Achievements\n",
            "424 suicides\n",
            "666 Thatcher resignation impact\n",
            "304 Endangered Species (Mammals)\n",
            "425 counterfeiting money\n",
            "667 unmarried-partner households\n",
            "305 Most Dangerous Vehicles\n",
            "426 law enforcement, dogs\n",
            "668 poverty, disease\n",
            "306 African Civilian Deaths\n",
            "427 UV damage, eyes\n",
            "669 Islamic Revolution\n",
            "307 New Hydroelectric Projects\n",
            "428 declining birth rates\n",
            "308 Implant Dentistry\n",
            "429 Legionnaires' disease\n",
            "309 Rap and Crime\n",
            "670 U.S. elections apathy\n",
            "671 Salvation Army benefits\n",
            "430 killer bee attacks\n",
            "672 NRA membership profile\n",
            "310 Radio Waves and Brain Cancer\n",
            "431 robotic technology\n",
            "673 Soviet withdrawal Afghanistan\n",
            "311 Industrial Espionage\n",
            "432 profiling, motorists, police\n",
            "674 Greenpeace prosecuted\n",
            "312 Hydroponics\n",
            "433 Greek, philosophy, stoicism\n",
            "675 Olympics training swimming\n",
            "313 Magnetic Levitation-Maglev\n",
            "434 Estonia, economy\n",
            "676 poppy cultivation\n",
            "314 Marine Vegetation\n",
            "435 curbing population growth\n",
            "677 Leaning Tower of Pisa\n",
            "315 Unexplained Highway Accidents\n",
            "436 railway accidents\n",
            "678 joint custody impact\n",
            "316 Polygamy Polyandry Polygyny\n",
            "437 deregulation, gas, electric\n",
            "679 opening adoption records\n",
            "317 Unsolicited Faxes\n",
            "438 tourism, increase\n",
            "318 Best Retirement Country\n",
            "439 inventions, scientific discoveries\n",
            "319 New Fuel Sources\n",
            "680 immigrants Spanish school\n",
            "681 wind power location\n",
            "440 child labor\n",
            "682 adult immigrants English\n",
            "320 Undersea Fiber Optic Cable\n",
            "441 Lyme disease\n",
            "683 Czechoslovakia breakup\n",
            "321 Women in Parliaments\n",
            "442 heroic acts\n",
            "684 part-time benefits\n",
            "322 International Art Crime\n",
            "443 U.S., investment, Africa\n",
            "685 Oscar winner selection\n",
            "323 Literary/Journalistic Plagiarism\n",
            "444 supercritical fluids\n",
            "686 Argentina pegging dollar\n",
            "324 Argentine/British Relations\n",
            "445 women clergy\n",
            "687 Northern Ireland industry\n",
            "325 Cult Lifestyles\n",
            "446 tourists, violence\n",
            "688 non-U.S. media bias\n",
            "326 Ferry Sinkings\n",
            "447 Stirling engine\n",
            "689 family-planning aid\n",
            "327 Modern Slavery\n",
            "448 ship losses\n",
            "328 Pope Beatifications\n",
            "449 antibiotics ineffectiveness\n",
            "329 Mexican Air Pollution\n",
            "690 college education advantage\n",
            "691 clear-cutting forests\n",
            "450 King Hussein, peace\n",
            "692 prostate cancer detection treatment\n",
            "330 Iran-Iraq Cooperation\n",
            "693 newspapers electronic media\n",
            "331 World Bank Criticism\n",
            "694 compost pile\n",
            "332 Income Tax Evasion\n",
            "695 white collar crime sentence\n",
            "333 Antibiotics Bacteria Disease\n",
            "696 safety plastic surgery\n",
            "334 Export Controls Cryptography\n",
            "697 air traffic controller\n",
            "335 Adoptive Biological Parents\n",
            "698 literacy rates Africa\n",
            "336 Black Bear Attacks\n",
            "699 term limits\n",
            "337 Viral Hepatitis\n",
            "338 Risk of Aspirin\n",
            "339 Alzheimer's Drug Treatment\n",
            "340 Land Mine Ban\n",
            "341 Airport Security\n",
            "342 Diplomatic Expulsion\n",
            "343 Police Deaths\n",
            "344 Abuses of E-Mail\n",
            "345 Overseas Tobacco Sales\n",
            "346 Educational Standards\n",
            "347 Wildlife Extinction\n",
            "348 Agoraphobia\n",
            "349 Metabolism\n"
          ]
        }
      ]
    },
    {
      "cell_type": "markdown",
      "source": [
        "## Evaluating Initial Ranked Lists\n",
        "\n"
      ],
      "metadata": {
        "id": "LoDPnv1b04lP"
      }
    },
    {
      "cell_type": "markdown",
      "source": [
        "When reranking, an important metric is the _recall_ of the initial set of results. This tells us the upper bound or &ldquo;headroom&rdquo; on the improvements that reranking can achieve. If the recall in the initial ranked lists is too low, we know we need to optimize the initial retrieval model.\n",
        "\n",
        "For this assignment, you will work with fixed initial ranked lists from pyserini's BM25 model, but it's still useful to see how much room there is for improvement during reranking.\n",
        "\n",
        "As before, you should process the `qrels` data to find the relevant results for each query."
      ],
      "metadata": {
        "id": "407VkQsK8h6T"
      }
    },
    {
      "cell_type": "code",
      "source": [
        "from collections import defaultdict\n",
        "\n",
        "qrels_map = defaultdict(lambda: defaultdict(lambda: 0))\n",
        "rel_count_map = defaultdict(lambda: 0)\n",
        "for qid, _, docid, is_rel in qrels:\n",
        "\n",
        "  qrels_map[qid][docid] = is_rel\n",
        "  rel_count_map[qid] += is_rel"
      ],
      "metadata": {
        "id": "x356GI4oeuUO"
      },
      "execution_count": 28,
      "outputs": []
    },
    {
      "cell_type": "code",
      "source": [
        "print(dev_hits[350])\n",
        "print(qrels_map[350])\n",
        "print(rel_count_map[350])"
      ],
      "metadata": {
        "colab": {
          "base_uri": "https://localhost:8080/"
        },
        "id": "f0b4JDp1dTXM",
        "outputId": "8888d25a-d263-41ef-ea74-dfeff4345557"
      },
      "execution_count": 29,
      "outputs": [
        {
          "output_type": "stream",
          "name": "stdout",
          "text": [
            "[('LA052290-0188', 8.458999633789062), ('LA060690-0112', 7.700099945068359), ('FT922-6787', 7.6209001541137695), ('FT931-7146', 7.403800010681152), ('FT923-4291', 7.059599876403809), ('FR940805-2-00111', 6.98390007019043), ('FR940919-2-00012', 6.932000160217285), ('LA100690-0107', 6.867800235748291), ('FR940822-0-00016', 6.8653998374938965), ('FR940610-0-00106', 6.82450008392334), ('FT931-7096', 6.816500186920166), ('LA062390-0104', 6.751399993896484), ('FR940805-2-00036', 6.702400207519531), ('FR941107-2-00067', 6.663400173187256), ('FR940610-1-00047', 6.576900005340576), ('FT943-12885', 6.5345001220703125), ('FT944-11341', 6.5015997886657715), ('FR940826-0-00055', 6.480000019073486), ('LA010289-0072', 6.478499889373779), ('FR940913-0-00079', 6.470300197601318), ('FBIS3-22305', 6.45959997177124), ('FT944-12140', 6.456099987030029), ('FR940706-0-00094', 6.455100059509277), ('FR940825-0-00110', 6.455099105834961), ('FBIS3-59668', 6.378499984741211), ('FR940610-0-00127', 6.375400066375732), ('FR940803-0-00069', 6.366300106048584), ('FR940317-1-00147', 6.360499858856201), ('LA010389-0048', 6.341700077056885), ('FR940628-2-00048', 6.324900150299072), ('FR941025-2-00056', 6.305500030517578), ('LA112390-0145', 6.300600051879883), ('FT921-7851', 6.275300025939941), ('FR940822-1-00036', 6.266300201416016), ('FR941110-2-00018', 6.260300159454346), ('FT934-5579', 6.235799789428711), ('FT921-2449', 6.23569917678833), ('LA083189-0200', 6.207900047302246), ('FT934-9936', 6.193999767303467), ('LA052390-0093', 6.18120002746582), ('LA031990-0076', 6.152699947357178), ('LA091690-0195', 6.138700008392334), ('FR940622-0-00055', 6.118899822235107), ('FT931-14151', 6.11299991607666), ('FT921-12313', 6.100500106811523), ('LA091790-0043', 6.086299896240234), ('FR940413-2-00076', 6.081999778747559), ('FR940812-0-00079', 6.048999786376953), ('FR941104-1-00006', 6.03000020980835), ('FR941116-2-00127', 6.027400016784668), ('FT922-1479', 6.015399932861328), ('FR940805-2-00109', 6.0096001625061035), ('LA041590-0164', 6.009399890899658), ('FT922-2155', 5.985499858856201), ('FT942-5277', 5.973100185394287), ('FR940711-2-00103', 5.961900234222412), ('FT944-9452', 5.959799766540527), ('FT923-9318', 5.9583001136779785), ('FR940627-0-00224', 5.940400123596191), ('FR940504-2-00066', 5.931600093841553), ('LA080290-0083', 5.930099964141846), ('FT934-11830', 5.904200077056885), ('FR941212-0-00141', 5.882299900054932), ('LA062289-0031', 5.875999927520752), ('LA041190-0114', 5.874000072479248), ('FR940622-0-00075', 5.870999813079834), ('FR940707-2-00143', 5.866199970245361), ('FR940524-2-00059', 5.863900184631348), ('FR940805-2-00099', 5.85830020904541), ('LA022189-0015', 5.854899883270264), ('FR941220-0-00017', 5.825399875640869), ('LA082889-0046', 5.807600021362305), ('FT941-14491', 5.8069000244140625), ('FR940223-2-00141', 5.803899765014648), ('FT934-14178', 5.8018999099731445), ('FBIS3-40502', 5.798799991607666), ('FT941-3332', 5.787700176239014), ('FT934-9689', 5.787199974060059), ('FT941-6094', 5.779600143432617), ('LA070489-0108', 5.779200077056885), ('FT942-569', 5.772200107574463), ('FT944-13690', 5.7683000564575195), ('FBIS4-20702', 5.751800060272217), ('FT931-7291', 5.745800018310547), ('FBIS4-47124', 5.740900039672852), ('FR940811-2-00008', 5.73829984664917), ('FBIS3-59758', 5.73330020904541), ('FR940916-1-00092', 5.726900100708008), ('FT923-13789', 5.7006001472473145), ('FR941110-0-00269', 5.684000015258789), ('LA041389-0104', 5.682199954986572), ('LA083190-0040', 5.674499988555908), ('FT932-14448', 5.665500164031982), ('LA031289-0009', 5.662899971008301), ('FT924-8566', 5.661799907684326), ('LA060189-0082', 5.660799980163574), ('FT943-2713', 5.652599811553955), ('FBIS4-5763', 5.651299953460693), ('FBIS3-5779', 5.644000053405762), ('FR940819-1-00015', 5.641499996185303), ('FR940622-0-00061', 5.631499767303467), ('LA122490-0040', 5.622399806976318), ('FBIS4-52032', 5.620500087738037), ('FR941103-2-00154', 5.620299816131592), ('FT944-9468', 5.620298862457275), ('FR940127-2-00063', 5.6128997802734375), ('FR940722-2-00101', 5.61269998550415), ('FR940516-0-00046', 5.608099937438965), ('FR941110-0-00257', 5.600500106811523), ('FT942-580', 5.597499847412109), ('FT933-1957', 5.597099781036377), ('FR940620-1-00063', 5.590199947357178), ('FR940224-0-00045', 5.586299896240234), ('FR940203-1-00039', 5.582499980926514), ('FR941110-0-00036', 5.582499027252197), ('LA071290-0163', 5.5817999839782715), ('FR940825-1-00082', 5.573999881744385), ('FT932-6845', 5.57289981842041), ('FBIS4-22955', 5.559599876403809), ('FR940622-0-00031', 5.551599979400635), ('FR940603-1-00150', 5.548900127410889), ('LA092590-0197', 5.547900199890137), ('FBIS4-48641', 5.532599925994873), ('FR941110-0-00136', 5.525700092315674), ('FR940603-1-00165', 5.519000053405762), ('FR941103-2-00155', 5.5152997970581055), ('FR940429-0-00147', 5.511899948120117), ('FBIS4-66458', 5.5030999183654785), ('FT944-9710', 5.501800060272217), ('FR940825-0-00052', 5.49970006942749), ('FR940203-1-00038', 5.499100208282471), ('FT934-9924', 5.49459981918335), ('FT944-15438', 5.494598865509033), ('FBIS4-5005', 5.494100093841553), ('FT944-9470', 5.494099140167236), ('LA042589-0079', 5.489299774169922), ('FR940214-2-00077', 5.486100196838379), ('FT944-7040', 5.484600067138672), ('FT922-2176', 5.484000205993652), ('FBIS3-59557', 5.4721999168396), ('FR940324-2-00020', 5.471499919891357), ('FR940302-2-00029', 5.469099998474121), ('FBIS3-40468', 5.4679999351501465), ('FT942-13145', 5.461100101470947), ('FT933-13994', 5.454100131988525), ('FT933-13982', 5.449999809265137), ('FT931-12840', 5.445199966430664), ('FT942-17649', 5.439799785614014), ('FT931-5553', 5.427000045776367), ('FR940928-2-00039', 5.426599979400635), ('FR941102-2-00092', 5.423900127410889), ('FT942-17628', 5.422500133514404), ('FR940118-2-00003', 5.421599864959717), ('FR940721-2-00003', 5.4215989112854), ('FR940919-2-00003', 5.421597957611084), ('LA101490-0212', 5.407700061798096), ('LA030389-0012', 5.403200149536133), ('FR940513-1-00069', 5.402400016784668), ('FT934-8387', 5.3993000984191895), ('LA100589-0051', 5.399299144744873), ('LA091690-0087', 5.397900104522705), ('FR940617-0-00049', 5.397200107574463), ('FT933-1948', 5.394499778747559), ('LA070489-0077', 5.383699893951416), ('FT941-1172', 5.376399993896484), ('FR941028-2-00180', 5.375199794769287), ('LA092289-0125', 5.369699954986572), ('LA080389-0074', 5.3684000968933105), ('FR941021-0-00024', 5.3649001121521), ('LA081089-0038', 5.363699913024902), ('LA110190-0156', 5.358799934387207), ('FT941-2464', 5.35699987411499), ('LA071389-0152', 5.356800079345703), ('FR940524-2-00049', 5.355400085449219), ('FT934-10440', 5.352099895477295), ('LA050790-0003', 5.348499774932861), ('LA120789-0021', 5.3483991622924805), ('FR941110-0-00270', 5.34630012512207), ('FR940822-1-00020', 5.345699787139893), ('FT941-15800', 5.340700149536133), ('LA081589-0091', 5.340699195861816), ('FT924-2780', 5.340099811553955), ('FBIS4-20564', 5.339099884033203), ('LA120689-0152', 5.333700180053711), ('FR940516-0-00047', 5.331600189208984), ('FT941-5207', 5.329800128936768), ('FR941003-2-00007', 5.326099872589111), ('FT942-14910', 5.322800159454346), ('FT921-16501', 5.321599960327148), ('FBIS4-6162', 5.320300102233887), ('FBIS3-59849', 5.315999984741211), ('FT922-5829', 5.312399864196777), ('FT921-13025', 5.304599761962891), ('FT944-13250', 5.304100036621094), ('LA050289-0035', 5.303199768066406), ('LA102089-0158', 5.301300048828125), ('FR940822-1-00034', 5.301000118255615), ('FR940603-1-00189', 5.30019998550415), ('FR941227-2-00056', 5.300199031829834), ('FT931-13816', 5.297800064086914), ('FR940405-1-00058', 5.295499801635742), ('FT921-15344', 5.295498847961426), ('FR940707-2-00018', 5.292699813842773), ('FT932-2928', 5.292099952697754), ('FT941-16361', 5.291399955749512), ('FBIS4-20652', 5.290800094604492), ('FR940812-0-00062', 5.284800052642822), ('FR940222-1-00049', 5.282199859619141), ('FT934-9686', 5.271599769592285), ('FR940822-1-00023', 5.271499156951904), ('FBIS4-6929', 5.270899772644043), ('LA030590-0122', 5.270299911499023), ('FT941-3325', 5.270100116729736), ('FBIS3-61569', 5.269100189208984), ('FR941220-2-00064', 5.264699935913086), ('FT943-1171', 5.2646989822387695), ('FR941110-0-00218', 5.262800216674805), ('LA082490-0137', 5.261899948120117), ('FR940812-0-00033', 5.25439977645874), ('FR940812-0-00080', 5.254398822784424), ('FR940822-0-00017', 5.253399848937988), ('FR940822-1-00042', 5.252900123596191), ('LA050190-0196', 5.25029993057251), ('LA071589-0100', 5.249599933624268), ('LA030690-0095', 5.246200084686279), ('FT932-5539', 5.243899822235107), ('FR940216-0-00044', 5.239799976348877), ('FT944-14417', 5.2397990226745605), ('LA062289-0103', 5.237199783325195), ('FT932-3201', 5.234600067138672), ('FR941205-0-00191', 5.23390007019043), ('LA102289-0233', 5.23360013961792), ('FT941-15280', 5.233500003814697), ('LA030690-0156', 5.229100227355957), ('FR941110-0-00113', 5.222599983215332), ('FT922-9715', 5.220399856567383), ('FT944-5782', 5.2195000648498535), ('FR941110-0-00051', 5.219399929046631), ('FT944-17088', 5.218500137329102), ('FR940602-1-00023', 5.21750020980835), ('FBIS3-21032', 5.215000152587891), ('FT942-14952', 5.211599826812744), ('FR940407-0-00013', 5.210700035095215), ('FR941110-0-00132', 5.20389986038208), ('LA110890-0217', 5.203100204467773), ('FR941110-0-00050', 5.1930999755859375), ('FR940621-2-00060', 5.192299842834473), ('LA121789-0238', 5.187699794769287), ('FR941110-0-00044', 5.184999942779541), ('FR941026-0-00054', 5.181000232696533), ('FR940412-2-00019', 5.179599761962891), ('FR940728-2-00025', 5.179100036621094), ('FT933-4465', 5.178999900817871), ('FR940822-1-00027', 5.178800106048584), ('FR940208-1-00063', 5.17710018157959), ('FT932-3610', 5.176499843597412), ('FT932-14371', 5.176199913024902), ('FR940811-0-00047', 5.1707000732421875), ('FR940825-1-00080', 5.170100212097168), ('FR940328-2-00014', 5.167300224304199), ('FR940622-0-00054', 5.166900157928467), ('FT934-16045', 5.1666998863220215), ('FR941117-0-00035', 5.1645002365112305), ('FR940303-2-00212', 5.162399768829346), ('FT942-8460', 5.161300182342529), ('FT924-5902', 5.159900188446045), ('FT922-6353', 5.157299995422363), ('FR941110-0-00155', 5.156599998474121), ('FR941110-0-00166', 5.154600143432617), ('FT924-15703', 5.153600215911865), ('FR940906-2-00123', 5.146200180053711), ('FR940610-0-00126', 5.144599914550781), ('FBIS4-27356', 5.139699935913086), ('FR941110-0-00047', 5.139100074768066), ('FR941230-0-00007', 5.13909912109375), ('FT923-9317', 5.137199878692627), ('FBIS3-21040', 5.133600234985352), ('FR940222-1-00060', 5.123799800872803), ('FR940208-2-00180', 5.1219000816345215), ('FR940610-0-00063', 5.119999885559082), ('FR940830-2-00113', 5.119998931884766), ('FR940707-2-00145', 5.119699954986572), ('FT944-15925', 5.108399868011475), ('FT922-2007', 5.107399940490723), ('FT932-5310', 5.1072998046875), ('FR941202-1-00053', 5.106800079345703), ('FR941128-2-00100', 5.1057000160217285), ('FT942-13147', 5.105199813842773), ('FBIS3-2109', 5.098499774932861), ('LA021090-0085', 5.097799777984619), ('FBIS4-67223', 5.094799995422363), ('FR940513-2-00176', 5.093999862670898), ('LA070890-0042', 5.093998908996582), ('LA090190-0145', 5.089600086212158), ('FT922-1552', 5.084799766540527), ('FR940713-0-00038', 5.082099914550781), ('FT922-5327', 5.082098960876465), ('FR940208-1-00034', 5.080999851226807), ('FT943-7679', 5.079899787902832), ('FR940919-2-00074', 5.0742998123168945), ('FR941122-2-00067', 5.074298858642578), ('FT911-3917', 5.07390022277832), ('FR940610-0-00124', 5.073699951171875), ('FT922-1457', 5.073698997497559), ('LA010889-0154', 5.073698043823242), ('LA092689-0079', 5.069799900054932), ('FR940610-0-00055', 5.069399833679199), ('FT924-8559', 5.069398880004883), ('FT934-14177', 5.069397926330566), ('FR940705-2-00074', 5.068999767303467), ('FR941017-2-00079', 5.066699981689453), ('FT923-14610', 5.066400051116943), ('FR941110-0-00202', 5.065999984741211), ('FR940822-1-00019', 5.065800189971924), ('FR941216-1-00059', 5.064799785614014), ('LA040989-0016', 5.060800075531006), ('FBIS4-27675', 5.060699939727783), ('FR941125-2-00128', 5.060400009155273), ('FT921-2358', 5.059999942779541), ('FR940803-2-00055', 5.059998989105225), ('FR940118-2-00092', 5.057300090789795), ('FBIS4-20559', 5.055300235748291), ('FR941110-0-00112', 5.054999828338623), ('FT933-1953', 5.05210018157959), ('FR940721-2-00110', 5.051199913024902), ('FT943-13815', 5.05079984664917), ('FT943-8342', 5.049200057983398), ('FR941020-2-00081', 5.048399925231934), ('FT921-11904', 5.048398971557617), ('FT931-15505', 5.048398017883301), ('FT931-15552', 5.048397064208984), ('LA112190-0052', 5.047800064086914), ('LA090290-0196', 5.045000076293945), ('FR940111-2-00075', 5.041399955749512), ('FT924-5109', 5.041100025177002), ('FT943-5326', 5.037199974060059), ('FR940317-1-00140', 5.031899929046631), ('FR940527-0-00078', 5.0318989753723145), ('FR940610-0-00104', 5.028200149536133), ('FR940722-0-00006', 5.028199195861816), ('FR940830-2-00122', 5.0281982421875), ('LA052490-0022', 5.028197288513184), ('FT934-6610', 5.026000022888184), ('FT924-8563', 5.024799823760986), ('FT943-1205', 5.024600028991699), ('FBIS3-43069', 5.023399829864502), ('LA092590-0070', 5.023299217224121), ('LA030890-0204', 5.022200107574463), ('FR940822-0-00065', 5.019800186157227), ('FR941025-2-00099', 5.01979923248291), ('FT932-11242', 5.019798278808594), ('LA072990-0053', 5.018700122833252), ('FR940603-2-00056', 5.0167999267578125), ('FT934-4696', 5.012899875640869), ('FT941-12636', 5.012499809265137), ('LA091190-0037', 5.011099815368652), ('FT932-10035', 5.008800029754639), ('FR940620-1-00091', 5.007500171661377), ('FT922-2528', 5.00540018081665), ('LA071890-0050', 5.005399227142334), ('FT944-12615', 5.003300189971924), ('FR941110-0-00216', 5.003200054168701), ('FR940223-2-00107', 5.001999855041504), ('FR940302-2-00073', 5.0019989013671875), ('FR940406-2-00103', 5.001997947692871), ('FR940406-2-00104', 5.001996994018555), ('FR940429-2-00059', 5.001996040344238), ('FR940511-2-00128', 5.001995086669922), ('FT943-14263', 4.99399995803833), ('LA121289-0056', 4.989200115203857), ('FR941110-0-00263', 4.986299991607666), ('FT924-13707', 4.985000133514404), ('FT933-15501', 4.984999179840088), ('LA071389-0155', 4.9822998046875), ('FBIS3-40384', 4.979100227355957), ('LA110690-0119', 4.979099273681641), ('FR940414-0-00032', 4.976200103759766), ('FBIS3-42839', 4.975900173187256), ('FBIS3-2003', 4.975599765777588), ('FT942-2240', 4.9755988121032715), ('FT943-12837', 4.975597858428955), ('FBIS4-47500', 4.973599910736084), ('FR940217-2-00089', 4.973598957061768), ('FR940223-2-00106', 4.973598003387451), ('FR940511-2-00126', 4.973597049713135), ('FR940524-2-00057', 4.973596096038818), ('FT923-12869', 4.96999979019165), ('FR941110-0-00169', 4.964300155639648), ('FR941110-0-00170', 4.964299201965332), ('FT931-8050', 4.964298248291016), ('FR940805-2-00095', 4.9618000984191895), ('FR940805-1-00008', 4.959099769592285), ('FT923-14591', 4.958799839019775), ('LA010689-0133', 4.957699775695801), ('FT931-16208', 4.957200050354004), ('FT924-13876', 4.956699848175049), ('LA042589-0134', 4.956399917602539), ('LA030889-0016', 4.956299781799316), ('FBIS4-22970', 4.9561991691589355), ('FR940119-2-00017', 4.954699993133545), ('FR941220-2-00060', 4.9546990394592285), ('FR940902-0-00114', 4.9527997970581055), ('LA022390-0073', 4.952798843383789), ('FT923-1127', 4.947400093078613), ('FR940622-0-00057', 4.946199893951416), ('FT942-3231', 4.943999767303467), ('FR940425-2-00083', 4.94379997253418), ('FBIS4-44905', 4.941999912261963), ('FR940610-0-00053', 4.939799785614014), ('FT911-136', 4.939798831939697), ('FT924-15330', 4.939797878265381), ('FT933-10810', 4.9397969245910645), ('FT923-1126', 4.936699867248535), ('LA111590-0229', 4.936299800872803), ('FT924-5834', 4.933800220489502), ('FR940513-1-00088', 4.93209981918335), ('FT943-7333', 4.930300235748291), ('LA011590-0122', 4.930299282073975), ('FR941230-0-00008', 4.926199913024902), ('FR941110-0-00179', 4.924499988555908), ('LA092390-0163', 4.924499034881592), ('FBIS3-59008', 4.922299861907959), ('FT921-11554', 4.918499946594238), ('FR940720-2-00071', 4.918000221252441), ('FBIS4-2362', 4.917500019073486), ('FT923-7061', 4.914000034332275), ('FR940622-0-00059', 4.907800197601318), ('FT924-10560', 4.907400131225586), ('FT922-10027', 4.906499862670898), ('FR941110-0-00152', 4.905700206756592), ('FT943-2537', 4.903600215911865), ('FT911-3871', 4.900700092315674), ('FR940822-0-00020', 4.899799823760986), ('FT941-10194', 4.898399829864502), ('FR940812-2-00049', 4.895500183105469), ('FR940620-1-00080', 4.895400047302246), ('FT922-1458', 4.8927001953125), ('FR940805-1-00003', 4.89139986038208), ('FT932-14132', 4.89109992980957), ('FR940802-1-00023', 4.8902997970581055), ('FT922-8964', 4.890199184417725), ('LA090490-0150', 4.889999866485596), ('FT934-10570', 4.88640022277832), ('LA072389-0087', 4.884300231933594), ('FT924-13987', 4.882800102233887), ('LA051289-0012', 4.88279914855957), ('FR940622-0-00033', 4.882599830627441), ('FT924-10868', 4.882400035858154), ('FR940223-2-00143', 4.881899833679199), ('FR940516-0-00050', 4.881799221038818), ('FT924-3074', 4.881798267364502), ('FT944-13668', 4.8815999031066895), ('LA120590-0082', 4.880499839782715), ('FR940622-0-00060', 4.880399227142334), ('FT941-1388', 4.875800132751465), ('FR940126-2-00086', 4.873899936676025), ('FT943-1186', 4.873300075531006), ('FR940719-1-00043', 4.872399806976318), ('LA051690-0092', 4.872000217437744), ('FBIS3-42379', 4.8703999519348145), ('LA011189-0062', 4.868800163269043), ('FT931-10710', 4.865699768066406), ('FT931-5413', 4.863100051879883), ('FR941205-2-00024', 4.857500076293945), ('FT932-14380', 4.855299949645996), ('FT932-2406', 4.85529899597168), ('LA121789-0235', 4.855298042297363), ('FBIS4-3415', 4.854800224304199), ('FBIS3-21001', 4.854700088500977), ('LA071289-0042', 4.84630012512207), ('FT932-14135', 4.8445000648498535), ('FT924-14753', 4.844399929046631), ('FBIS3-41405', 4.842199802398682), ('FT933-4248', 4.841899871826172), ('LA092789-0103', 4.8418989181518555), ('FR940622-0-00064', 4.8414998054504395), ('FR941110-0-00114', 4.841498851776123), ('FBIS4-2173', 4.839200019836426), ('LA101190-0094', 4.839199066162109), ('FT943-6193', 4.835100173950195), ('FT934-14926', 4.8343000411987305), ('FR940622-0-00050', 4.833000183105469), ('FT944-1291', 4.832999229431152), ('FBIS4-22954', 4.832699775695801), ('FT922-14466', 4.82889986038208), ('LA010889-0062', 4.827199935913086), ('FT934-9696', 4.824900150299072), ('FT911-4878', 4.823699951171875), ('FR940413-2-00073', 4.823599815368652), ('FT943-1168', 4.8234992027282715), ('LA081789-0130', 4.823498249053955), ('FT932-11042', 4.822400093078613), ('FR940822-1-00041', 4.821899890899658), ('LA040390-0071', 4.821898937225342), ('FR940830-2-00137', 4.819799900054932), ('LA091590-0056', 4.818699836730957), ('FR940317-1-00219', 4.81790018081665), ('FT921-8549', 4.812900066375732), ('FT944-1476', 4.810699939727783), ('FT922-1422', 4.809599876403809), ('FR941110-0-00258', 4.809499263763428), ('FT921-1053', 4.8078999519348145), ('FT931-12950', 4.807898998260498), ('FR940805-0-00030', 4.80709981918335), ('FR941207-2-00089', 4.8053998947143555), ('FT933-14918', 4.805398941040039), ('FR940819-2-00102', 4.803500175476074), ('FBIS3-29405', 4.803100109100342), ('LA103090-0064', 4.803099155426025), ('LA113090-0174', 4.803098201751709), ('LA111690-0147', 4.799300193786621), ('FT932-14403', 4.798299789428711), ('FR940803-0-00065', 4.795300006866455), ('FT911-3935', 4.794000148773193), ('FR940622-0-00027', 4.791900157928467), ('FR940906-2-00040', 4.788599967956543), ('FT933-1954', 4.784800052642822), ('FT921-8547', 4.784299850463867), ('FT933-13340', 4.784298896789551), ('LA111690-0092', 4.782800197601318), ('LA112589-0052', 4.782799243927002), ('FR941122-1-00039', 4.782299995422363), ('FT933-4489', 4.781400203704834), ('FR940607-2-00043', 4.780799865722656), ('FR940913-2-00068', 4.78079891204834), ('FT924-13875', 4.780797958374023), ('FT921-2439', 4.7795000076293945), ('FR940803-2-00062', 4.779399871826172), ('FT924-819', 4.775100231170654), ('FBIS4-50588', 4.774199962615967), ('FT923-1668', 4.77419900894165), ('FR941110-0-00215', 4.773399829864502), ('FBIS4-66227', 4.772799968719482), ('FT924-13470', 4.77239990234375), ('LA013090-0138', 4.762599945068359), ('LA042189-0012', 4.76230001449585), ('FR940610-0-00134', 4.76170015335083), ('FR940610-1-00037', 4.761699199676514), ('FT934-9935', 4.761698246002197), ('LA011289-0096', 4.758600234985352), ('LA120390-0047', 4.756100177764893), ('LA122289-0048', 4.754199981689453), ('FT923-126', 4.753699779510498), ('FT924-12680', 4.753698825836182), ('FR941110-0-00201', 4.753200054168701), ('FT933-3179', 4.752699851989746), ('FT934-8680', 4.751699924468994), ('FR941110-0-00031', 4.750699996948242), ('LA100990-0048', 4.7505998611450195), ('FR940725-0-00097', 4.750598907470703), ('FR941011-0-00039', 4.750597953796387), ('FR940222-2-00071', 4.743899822235107), ('FT932-297', 4.739799976348877), ('FR940208-1-00031', 4.7393999099731445), ('FR940223-0-00036', 4.7382001876831055), ('FR940527-2-00068', 4.734099864959717), ('FR940104-2-00032', 4.731599807739258), ('LA112889-0127', 4.731400012969971), ('FT922-10454', 4.730100154876709), ('FT941-5032', 4.729899883270264), ('FT943-16369', 4.729700088500977), ('LA031490-0076', 4.729100227355957), ('FT922-2709', 4.727099895477295), ('FT943-1188', 4.7270989418029785), ('FR940706-2-00081', 4.725599765777588), ('FT943-5077', 4.725100040435791), ('FT941-13220', 4.724299907684326), ('FT922-1469', 4.72130012512207), ('LA012589-0130', 4.721299171447754), ('FR941110-0-00041', 4.721198081970215), ('FT921-8299', 4.721096992492676), ('FR941212-0-00136', 4.720799922943115), ('FR940527-2-00058', 4.717400074005127), ('FR941227-1-00027', 4.717100143432617), ('FT922-3984', 4.716800212860107), ('FT931-8283', 4.714799880981445), ('FR940628-2-00138', 4.711599826812744), ('FR941102-1-00027', 4.711598873138428), ('FR940805-2-00104', 4.710000038146973), ('FR940913-0-00087', 4.7067999839782715), ('FT932-382', 4.705699920654297), ('FR940719-1-00046', 4.704100131988525), ('FT924-2074', 4.700300216674805), ('FBIS4-5299', 4.694300174713135), ('FR940527-1-00081', 4.690899848937988), ('FR940810-0-00021', 4.689300060272217), ('FT941-5800', 4.6892991065979), ('FR940720-1-00009', 4.6855998039245605), ('FR941230-2-00062', 4.685598850250244), ('FT931-12782', 4.683700084686279), ('LA041589-0109', 4.683699131011963), ('LA091190-0143', 4.681700229644775), ('FT932-14139', 4.681399822235107), ('FT942-570', 4.681398868560791), ('FR940602-1-00024', 4.679200172424316), ('FR941110-0-00048', 4.678999900817871), ('FR940414-2-00122', 4.678899765014648), ('FR940819-2-00096', 4.677299976348877), ('FT922-5305', 4.6772990226745605), ('FT941-16619', 4.677298069000244), ('FR940711-2-00058', 4.677196979522705), ('FT933-3873', 4.676300048828125), ('LA061290-0153', 4.676299095153809), ('FR941011-2-00132', 4.67609977722168), ('FR940610-1-00044', 4.676098823547363), ('FR940622-2-00087', 4.676097869873047), ('FR940812-0-00077', 4.6760969161987305), ('FT944-9890', 4.676095962524414), ('FR941027-2-00077', 4.675899982452393), ('FR941116-0-00007', 4.670300006866455), ('FR941110-0-00232', 4.670100212097168), ('FT931-15633', 4.668000221252441), ('LA121089-0036', 4.667900085449219), ('FBIS3-40427', 4.667200088500977), ('FBIS4-47502', 4.665999889373779), ('FT933-1956', 4.6596999168396), ('FT941-3331', 4.659698963165283), ('FR940725-2-00085', 4.65910005569458), ('FR940803-1-00009', 4.659099102020264), ('FR940902-0-00101', 4.659098148345947), ('FR940207-1-00045', 4.658599853515625), ('FT921-427', 4.658598899841309), ('LA012089-0089', 4.658597946166992), ('LA030789-0008', 4.658596992492676), ('FR941027-2-00062', 4.657899856567383), ('FT911-3933', 4.656199932098389), ('LA103090-0015', 4.650599956512451), ('FR941019-1-00046', 4.649899959564209), ('FT923-12066', 4.649899005889893), ('FBIS3-1590', 4.645199775695801), ('LA042389-0181', 4.644800186157227), ('LA072689-0009', 4.64479923248291), ('FR940524-2-00058', 4.644599914550781), ('FR940610-1-00012', 4.644598960876465), ('FT941-3759', 4.644598007202148), ('FT943-7019', 4.644597053527832), ('FT921-8554', 4.643499851226807), ('FR940803-2-00004', 4.6433000564575195), ('FT924-913', 4.643299102783203), ('FT932-9585', 4.643298149108887), ('FBIS3-21004', 4.642199993133545), ('FR941110-0-00032', 4.638199806213379), ('FR941110-0-00165', 4.6381988525390625), ('FR940728-2-00086', 4.638000011444092), ('FT921-4470', 4.636000156402588), ('FR940705-2-00178', 4.6346001625061035), ('FR940919-2-00041', 4.634599208831787), ('FR941216-2-00075', 4.634598255157471), ('LA032990-0113', 4.634497165679932), ('FT942-6277', 4.634396076202393), ('FR940930-0-00100', 4.633800029754639), ('FR940831-2-00063', 4.633699893951416), ('FR941017-1-00043', 4.633200168609619), ('FR941220-0-00032', 4.633199214935303), ('FT934-15448', 4.632500171661377), ('FT943-13935', 4.6324992179870605), ('LA122089-0082', 4.631899833679199), ('FT923-4280', 4.6265997886657715), ('FR940830-2-00128', 4.6244001388549805), ('FR940811-2-00007', 4.6234002113342285), ('FR941026-1-00033', 4.623399257659912), ('FR940913-0-00077', 4.622499942779541), ('LA062389-0076', 4.622300148010254), ('LA091989-0114', 4.6222991943359375), ('FR940816-1-00102', 4.622298240661621), ('FR941011-0-00034', 4.622297286987305), ('LA032190-0008', 4.620100021362305), ('LA120590-0156', 4.614799976348877), ('FR941207-0-00142', 4.613800048828125), ('FR941013-2-00068', 4.613399982452393), ('FT922-1465', 4.613399028778076), ('FT934-4878', 4.61339807510376), ('FT922-9436', 4.611800193786621), ('FR940412-2-00110', 4.609000205993652), ('FR941013-2-00075', 4.607100009918213), ('FR941130-0-00104', 4.6070990562438965), ('FR940513-1-00065', 4.605100154876709), ('FT934-9940', 4.604700088500977), ('FR940513-1-00084', 4.603600025177002), ('FR941230-1-00030', 4.6035990715026855), ('FR940128-2-00123', 4.603300094604492), ('FR940106-1-00023', 4.602700233459473), ('FT941-13216', 4.601900100708008), ('FT941-6008', 4.5991997718811035), ('FT911-131', 4.5929999351501465), ('FT932-2922', 4.59299898147583), ('FT941-9300', 4.592998027801514), ('FBIS3-44438', 4.589900016784668), ('FR940819-2-00131', 4.589600086212158), ('FR941110-0-00210', 4.589599132537842), ('FT944-12617', 4.589300155639648), ('FR940513-1-00075', 4.585000038146973), ('FR940817-1-00061', 4.584000110626221), ('FR940303-2-00107', 4.582799911499023), ('FT943-1184', 4.582798957824707), ('FR940505-2-00060', 4.579699993133545), ('FBIS3-60409', 4.57450008392334), ('FR940620-1-00050', 4.571800231933594), ('FR941110-0-00196', 4.571799278259277), ('FR941202-0-00039', 4.571798324584961), ('LA010589-0047', 4.5717973709106445), ('FT922-963', 4.570300102233887), ('FT931-10508', 4.57029914855957), ('FT932-1323', 4.570298194885254), ('FT942-1318', 4.5702972412109375), ('FT944-14793', 4.570296287536621), ('FT944-16984', 4.570295333862305), ('FT931-3822', 4.569399833679199), ('FT941-13215', 4.569200038909912), ('FT942-576', 4.569199085235596), ('FT944-15675', 4.569198131561279), ('LA090690-0040', 4.569197177886963), ('FR940610-1-00017', 4.568900108337402), ('FT921-9125', 4.568899154663086), ('FT942-10384', 4.567399978637695), ('FT944-5780', 4.5665998458862305), ('LA022390-0156', 4.564700126647949), ('LA120589-0031', 4.564699172973633), ('FT933-12831', 4.5644001960754395), ('FT943-1144', 4.564399242401123), ('FR941110-0-00242', 4.562900066375732), ('FT922-1588', 4.562899112701416), ('LA022390-0108', 4.5625), ('FR940527-1-00106', 4.562099933624268), ('LA052089-0056', 4.560999870300293), ('FT941-3333', 4.5584001541137695), ('FBIS4-5300', 4.555300235748291), ('FT931-4268', 4.5503997802734375), ('FT933-6096', 4.550398826599121), ('FT933-6707', 4.54580020904541), ('LA050190-0192', 4.5457000732421875), ('FR940810-0-00003', 4.543700218200684), ('LA052290-0064', 4.543399810791016), ('FR940622-0-00032', 4.542300224304199), ('FR941110-0-00176', 4.542299270629883), ('LA091990-0036', 4.541999816894531), ('FR940110-2-00102', 4.54189920425415), ('FR940822-1-00043', 4.541100025177002), ('FR940906-2-00056', 4.5410990715026855), ('FR941104-2-00002', 4.541098117828369), ('FT922-7564', 4.541097164154053), ('LA062490-0064', 4.541096210479736), ('FR940405-2-00180', 4.540900230407715), ('FR940527-2-00153', 4.540299892425537), ('FT943-12838', 4.535600185394287), ('FT921-14381', 4.533699989318848), ('FT932-16607', 4.533699035644531), ('FR941122-2-00135', 4.532899856567383), ('FR940610-1-00005', 4.531400203704834), ('LA082190-0142', 4.531399250030518), ('FT921-2585', 4.530300140380859), ('FR940208-1-00054', 4.529699802398682), ('FT942-581', 4.5295000076293945), ('FT931-2007', 4.526000022888184), ('FT944-3903', 4.525999069213867), ('FBIS3-59506', 4.524400234222412), ('FR940428-2-00141', 4.52269983291626), ('FR940419-2-00071', 4.519899845123291), ('FR941230-0-00009', 4.519499778747559), ('FR940825-0-00103', 4.516900062561035), ('FR941110-2-00111', 4.516899108886719), ('FT921-10333', 4.516898155212402), ('FT924-2785', 4.516897201538086), ('LA051790-0067', 4.5168962478637695), ('FT921-180', 4.513999938964844), ('FBIS4-53041', 4.513500213623047), ('LA091590-0054', 4.5134992599487305), ('FR941110-0-00265', 4.507400035858154), ('FR941212-0-00137', 4.504799842834473), ('FR940105-2-00100', 4.503399848937988), ('LA042789-0062', 4.502299785614014), ('FR940725-2-00069', 4.500899791717529), ('FBIS4-5911', 4.500799179077148), ('LA072189-0093', 4.498300075531006), ('FBIS3-40400', 4.497799873352051), ('FR941020-2-00065', 4.497798919677734), ('FT932-10918', 4.497797966003418), ('LA072789-0144', 4.497797012329102), ('LA090490-0151', 4.497796058654785), ('FR940628-1-00048', 4.495800018310547), ('LA101890-0236', 4.495699882507324), ('FR940203-2-00059', 4.48799991607666), ('FT924-15322', 4.487998962402344), ('FR941213-2-00017', 4.4857001304626465), ('FR941117-2-00078', 4.484600067138672), ('LA052389-0040', 4.4842000007629395), ('FBIS3-42630', 4.48330020904541), ('LA121390-0168', 4.481599807739258), ('FR941122-2-00010', 4.479700088500977), ('FT943-1146', 4.477499961853027), ('LA072390-0098', 4.477499008178711), ('FR940106-2-00061', 4.47599983215332), ('FT923-771', 4.472799777984619), ('FT922-2165', 4.472400188446045), ('FT934-9311', 4.4723992347717285), ('FT911-2457', 4.4720001220703125), ('LA042389-0079', 4.471700191497803), ('FT933-1947', 4.468699932098389), ('LA012289-0048', 4.467800140380859), ('FR940405-1-00083', 4.466100215911865), ('FR941220-0-00014', 4.466099262237549), ('FT911-2009', 4.46589994430542), ('LA012790-0052', 4.464900016784668), ('FT932-12003', 4.464399814605713), ('FR940826-2-00159', 4.46120023727417), ('LA120389-0227', 4.458700180053711), ('FR940616-0-00029', 4.458199977874756), ('FT944-5560', 4.4581990242004395), ('FT941-14307', 4.457200050354004), ('LA050190-0198', 4.4542999267578125), ('FT922-1010', 4.453700065612793), ('FR941110-0-00117', 4.4532999992370605), ('FR941110-0-00120', 4.453299045562744), ('FR940511-2-00095', 4.452600002288818), ('FR940902-0-00110', 4.452599048614502), ('FR940208-2-00045', 4.451000213623047), ('FR941110-0-00039', 4.4509992599487305), ('LA121889-0114', 4.448800086975098), ('FBIS3-10624', 4.443900108337402), ('FR940222-1-00048', 4.443899154663086), ('FR940622-0-00073', 4.4438982009887695), ('FBIS3-21005', 4.443299770355225), ('LA010489-0115', 4.440499782562256), ('FR940526-2-00005', 4.43720006942749), ('FT944-3446', 4.435999870300293), ('LA030389-0090', 4.435998916625977), ('FBIS3-24853', 4.430799961090088), ('FBIS3-33990', 4.4307990074157715), ('FR941020-1-00006', 4.430798053741455), ('LA021790-0053', 4.428699970245361), ('FT921-4540', 4.428199768066406), ('FR940620-1-00016', 4.428099155426025), ('FR941020-2-00083', 4.427800178527832), ('FT934-8408', 4.427799224853516), ('FT944-7947', 4.427798271179199), ('FR940825-1-00044', 4.42549991607666), ('LA041189-0057', 4.424600124359131), ('LA071290-0210', 4.4245991706848145), ('FR941107-2-00069', 4.424099922180176), ('FT922-24', 4.423999786376953), ('FT943-5198', 4.42110013961792), ('FT943-6892', 4.4210991859436035), ('FR940525-1-00005', 4.418000221252441), ('FBIS4-24900', 4.417200088500977), ('FBIS4-44549', 4.41719913482666), ('FBIS4-44581', 4.417198181152344), ('FR940921-2-00060', 4.417197227478027), ('FR940930-1-00008', 4.417196273803711), ('FR941102-0-00045', 4.4171953201293945), ('FT942-13136', 4.41719388961792), ('FT932-6207', 4.416800022125244), ('FT933-1955', 4.416600227355957), ('FT944-9860', 4.41480016708374), ('LA051390-0122', 4.414299964904785), ('LA082390-0189', 4.414100170135498), ('FT931-823', 4.414000034332275), ('FT941-713', 4.412300109863281), ('FR940405-2-00028', 4.40880012512207), ('FR941011-2-00009', 4.407800197601318), ('FR940721-2-00071', 4.4070000648498535), ('FT944-10177', 4.404699802398682), ('FT944-13670', 4.4039998054504395), ('LA030190-0151', 4.403998851776123), ('FT943-8067', 4.403500080108643), ('FT933-11784', 4.403299808502197), ('FR940208-1-00062', 4.400700092315674), ('FT933-16459', 4.400400161743164), ('LA090590-0009', 4.400399208068848), ('FBIS3-22585', 4.399400234222412), ('FT923-1185', 4.3979997634887695), ('FT922-4597', 4.397600173950195), ('FT934-7871', 4.397599220275879), ('LA020890-0007', 4.3975982666015625), ('FR941117-0-00063', 4.393599987030029), ('FR941202-1-00012', 4.393599033355713), ('FT943-11420', 4.3935980796813965), ('FT943-15079', 4.39359712600708), ('FR940203-1-00036', 4.393199920654297), ('FR941110-0-00178', 4.3931989669799805), ('FR940429-0-00194', 4.3927998542785645), ('LA040789-0051', 4.392798900604248), ('LA050390-0171', 4.392698287963867), ('FR940622-0-00065', 4.391300201416016), ('LA121690-0062', 4.39109992980957), ('LA101589-0128', 4.389100074768066), ('FT921-11463', 4.388999938964844), ('LA122890-0090', 4.388500213623047), ('FR940707-2-00111', 4.38670015335083), ('FR940222-0-00041', 4.384099960327148), ('FR941130-1-00036', 4.3821001052856445), ('FT924-2788', 4.381100177764893), ('FR940721-2-00065', 4.379700183868408), ('FT924-14492', 4.379699230194092), ('FR940610-0-00128', 4.379598140716553), ('FT911-3033', 4.376699924468994), ('LA032389-0037', 4.376698970794678), ('FT924-490', 4.376597881317139), ('FBIS4-44825', 4.376497268676758), ('FR940902-0-00088', 4.376496315002441), ('FR940725-2-00043', 4.376495361328125), ('LA101290-0114', 4.3744001388549805), ('FR940916-2-00086', 4.373300075531006), ('FBIS3-45996', 4.371200084686279), ('FT941-7238', 4.369699954986572), ('FR940706-0-00088', 4.369200229644775), ('FR941012-2-00018', 4.369199275970459), ('FT934-1611', 4.369198322296143), ('FT944-12915', 4.369197368621826), ('LA081790-0146', 4.36919641494751), ('FR941003-2-00068', 4.368899822235107), ('LA032990-0075', 4.367099761962891), ('FT933-10664', 4.3668999671936035), ('FT924-5873', 4.365099906921387), ('LA021989-0206', 4.36509895324707), ('FT944-13048', 4.364299774169922), ('FR941027-2-00084', 4.364099979400635), ('FR940822-1-00026', 4.364099025726318), ('LA120689-0096', 4.363997936248779), ('FT922-1037', 4.3618998527526855), ('FR940202-2-00026', 4.360599994659424), ('FR941110-0-00262', 4.360599040985107), ('FT932-10423', 4.352700233459473), ('FT934-10112', 4.352699279785156), ('FT942-10311', 4.35269832611084), ('FR940217-2-00109', 4.349400043487549), ('FR940825-0-00085', 4.349399089813232), ('FR941230-0-00132', 4.349398136138916), ('FT943-2958', 4.346499919891357), ('FT923-9864', 4.3460001945495605), ('FT932-17415', 4.344699859619141), ('LA080790-0151', 4.344698905944824), ('FR940208-1-00041', 4.343699932098389), ('FT942-13271', 4.343500137329102), ('FT922-12587', 4.343299865722656), ('LA020689-0058', 4.3429999351501465), ('FT923-14614', 4.3420000076293945), ('FT931-13418', 4.341999053955078), ('FR940622-0-00020', 4.337200164794922), ('FR941220-0-00033', 4.3371992111206055), ('LA050290-0050', 4.337198257446289), ('FT934-6113', 4.332600116729736), ('FR940404-2-00168', 4.332300186157227), ('FR940805-1-00056', 4.330999851226807), ('FT943-12346', 4.328199863433838), ('FR940728-2-00026', 4.3281989097595215), ('FT924-15331', 4.327099800109863), ('FT934-14190', 4.327098846435547), ('FT941-5034', 4.3270978927612305), ('FT941-7565', 4.32699728012085), ('FT943-2137', 4.3267998695373535), ('LA061190-0046', 4.326798915863037), ('LA081590-0123', 4.326797962188721), ('FT931-14003', 4.322299957275391), ('LA051889-0183', 4.3221001625061035), ('LA122590-0033', 4.322099208831787), ('FBIS3-59560', 4.320099830627441), ('FT941-2117', 4.3190999031066895), ('FT922-8909', 4.319098949432373), ('FT933-1774', 4.319097995758057), ('FR940728-2-00087', 4.317699909210205), ('FT924-15367', 4.316400051116943), ('FT932-9599', 4.3155999183654785), ('FT921-400', 4.313700199127197), ('FT942-3225', 4.313699245452881), ('FR940506-2-00137', 4.311200141906738), ('FBIS4-44795', 4.308000087738037), ('LA080290-0088', 4.307999134063721), ('FBIS3-60565', 4.307600021362305), ('LA072289-0126', 4.307599067687988), ('FBIS3-21523', 4.307497978210449), ('FBIS3-22777', 4.307497024536133), ('LA031689-0099', 4.303599834442139), ('FR940912-2-00016', 4.3028998374938965), ('FR941227-0-00104', 4.30289888381958), ('FBIS3-29272', 4.299200057983398), ('FR940516-1-00082', 4.299199104309082), ('LA040290-0034', 4.299198150634766), ('LA100589-0111', 4.29640007019043), ('FT942-11690', 4.295599937438965), ('FR941110-0-00246', 4.295199871063232), ('LA030390-0028', 4.295198917388916), ('FT932-11609', 4.2947998046875), ('FR940622-0-00028', 4.293900012969971), ('FR940721-2-00156', 4.293899059295654), ('FR941110-0-00045', 4.293898105621338), ('LA042489-0092', 4.293399810791016), ('FT921-1077', 4.292500019073486), ('FT922-10562', 4.292099952697754), ('FR940413-0-00039', 4.291399955749512), ('FR940907-2-00059', 4.291100025177002), ('FR941013-2-00074', 4.2910990715026855), ('FR940817-2-00222', 4.287600040435791), ('LA031989-0182', 4.2870001792907715), ('FR940617-2-00159', 4.284999847412109), ('FT942-571', 4.284998893737793), ('FT932-451', 4.28380012512207), ('LA080189-0109', 4.283799171447754), ('FT931-8282', 4.282400131225586), ('FR940810-0-00004', 4.281199932098389), ('LA090190-0095', 4.281198978424072)]\n",
            "defaultdict(<function <lambda>.<locals>.<lambda> at 0x7953ca2d0b80>, {'FBIS3-10261': 0, 'FBIS3-10291': 0, 'FBIS3-10855': 0, 'FBIS3-10875': 0, 'FBIS3-10963': 0, 'FBIS3-11090': 0, 'FBIS3-11984': 0, 'FBIS3-14832': 0, 'FBIS3-1590': 0, 'FBIS3-17040': 0, 'FBIS3-18700': 0, 'FBIS3-18852': 0, 'FBIS3-19781': 0, 'FBIS3-20517': 0, 'FBIS3-20567': 0, 'FBIS3-20796': 0, 'FBIS3-20854': 0, 'FBIS3-20964': 0, 'FBIS3-21004': 0, 'FBIS3-21030': 0, 'FBIS3-2109': 0, 'FBIS3-21150': 0, 'FBIS3-21265': 0, 'FBIS3-21269': 0, 'FBIS3-22127': 0, 'FBIS3-22222': 0, 'FBIS3-22305': 0, 'FBIS3-22454': 0, 'FBIS3-23': 0, 'FBIS3-23930': 0, 'FBIS3-23945': 0, 'FBIS3-23966': 0, 'FBIS3-24191': 0, 'FBIS3-24469': 0, 'FBIS3-24648': 0, 'FBIS3-2516': 0, 'FBIS3-25262': 0, 'FBIS3-28523': 0, 'FBIS3-29': 0, 'FBIS3-29180': 0, 'FBIS3-29272': 0, 'FBIS3-29315': 0, 'FBIS3-30139': 0, 'FBIS3-30726': 0, 'FBIS3-32193': 0, 'FBIS3-33991': 0, 'FBIS3-35': 0, 'FBIS3-35841': 0, 'FBIS3-36078': 0, 'FBIS3-37947': 0, 'FBIS3-38586': 0, 'FBIS3-3912': 0, 'FBIS3-3921': 0, 'FBIS3-40200': 0, 'FBIS3-40357': 0, 'FBIS3-40455': 0, 'FBIS3-40468': 0, 'FBIS3-40473': 0, 'FBIS3-40479': 0, 'FBIS3-40497': 0, 'FBIS3-40544': 1, 'FBIS3-41458': 0, 'FBIS3-41666': 0, 'FBIS3-41804': 0, 'FBIS3-4209': 0, 'FBIS3-4210': 0, 'FBIS3-42399': 0, 'FBIS3-42604': 0, 'FBIS3-42630': 0, 'FBIS3-42726': 0, 'FBIS3-42839': 0, 'FBIS3-42986': 0, 'FBIS3-43024': 0, 'FBIS3-43040': 0, 'FBIS3-43063': 0, 'FBIS3-43068': 1, 'FBIS3-43069': 0, 'FBIS3-43072': 0, 'FBIS3-43220': 0, 'FBIS3-44993': 0, 'FBIS3-45996': 0, 'FBIS3-46614': 0, 'FBIS3-47022': 0, 'FBIS3-5103': 0, 'FBIS3-52679': 0, 'FBIS3-53120': 0, 'FBIS3-5526': 0, 'FBIS3-55368': 0, 'FBIS3-55923': 0, 'FBIS3-58': 0, 'FBIS3-58091': 0, 'FBIS3-59557': 0, 'FBIS3-59668': 0, 'FBIS3-59748': 0, 'FBIS3-59758': 0, 'FBIS3-60336': 0, 'FBIS3-60342': 0, 'FBIS3-61562': 0, 'FBIS3-61568': 0, 'FBIS3-67': 0, 'FBIS3-6977': 0, 'FBIS3-7368': 0, 'FBIS3-7567': 0, 'FBIS3-8249': 0, 'FBIS3-8673': 0, 'FBIS4-15957': 0, 'FBIS4-1627': 0, 'FBIS4-18764': 0, 'FBIS4-20472': 0, 'FBIS4-20473': 0, 'FBIS4-20504': 0, 'FBIS4-20563': 0, 'FBIS4-20618': 0, 'FBIS4-21379': 0, 'FBIS4-22324': 0, 'FBIS4-22529': 0, 'FBIS4-22733': 0, 'FBIS4-22954': 0, 'FBIS4-22955': 0, 'FBIS4-23022': 0, 'FBIS4-2362': 0, 'FBIS4-24900': 0, 'FBIS4-2715': 0, 'FBIS4-27706': 0, 'FBIS4-27794': 0, 'FBIS4-29': 0, 'FBIS4-29962': 0, 'FBIS4-30483': 0, 'FBIS4-30637': 0, 'FBIS4-31787': 0, 'FBIS4-32188': 0, 'FBIS4-3415': 0, 'FBIS4-36868': 0, 'FBIS4-44549': 0, 'FBIS4-44581': 0, 'FBIS4-44647': 0, 'FBIS4-44869': 0, 'FBIS4-44905': 0, 'FBIS4-44913': 0, 'FBIS4-46469': 0, 'FBIS4-46649': 0, 'FBIS4-47124': 0, 'FBIS4-47414': 0, 'FBIS4-47430': 1, 'FBIS4-47500': 0, 'FBIS4-47502': 0, 'FBIS4-47579': 0, 'FBIS4-48641': 0, 'FBIS4-49021': 0, 'FBIS4-50588': 0, 'FBIS4-50706': 0, 'FBIS4-51182': 0, 'FBIS4-5300': 0, 'FBIS4-53339': 0, 'FBIS4-54000': 0, 'FBIS4-5523': 0, 'FBIS4-5763': 0, 'FBIS4-66185': 0, 'FBIS4-66308': 0, 'FBIS4-66382': 0, 'FBIS4-66406': 0, 'FBIS4-67223': 0, 'FBIS4-67533': 0, 'FBIS4-6929': 0, 'FBIS4-7749': 0, 'FR940104-0-00032': 0, 'FR940104-0-00034': 0, 'FR940104-2-00081': 0, 'FR940104-2-00084': 0, 'FR940111-2-00046': 0, 'FR940111-2-00075': 0, 'FR940112-1-00044': 0, 'FR940119-1-00037': 0, 'FR940119-2-00017': 0, 'FR940128-1-00019': 0, 'FR940203-0-00084': 0, 'FR940203-1-00069': 0, 'FR940208-1-00031': 0, 'FR940208-1-00063': 0, 'FR940216-2-00036': 0, 'FR940223-2-00231': 0, 'FR940223-2-00232': 0, 'FR940228-2-00049': 0, 'FR940228-2-00050': 0, 'FR940302-2-00029': 0, 'FR940303-1-00057': 0, 'FR940304-1-00044': 0, 'FR940318-2-00160': 0, 'FR940323-2-00097': 0, 'FR940324-2-00020': 0, 'FR940324-2-00022': 0, 'FR940325-1-00021': 0, 'FR940325-1-00033': 0, 'FR940325-1-00034': 0, 'FR940325-1-00035': 0, 'FR940325-1-00036': 0, 'FR940325-1-00037': 0, 'FR940325-1-00038': 0, 'FR940325-1-00040': 0, 'FR940405-1-00034': 0, 'FR940405-1-00037': 0, 'FR940405-1-00038': 1, 'FR940405-1-00039': 0, 'FR940405-1-00040': 0, 'FR940405-1-00054': 0, 'FR940405-1-00058': 0, 'FR940405-1-00084': 0, 'FR940405-1-00092': 0, 'FR940405-1-00096': 0, 'FR940405-1-00097': 0, 'FR940405-1-00098': 0, 'FR940406-0-00190': 0, 'FR940407-0-00013': 0, 'FR940412-1-00073': 0, 'FR940413-0-00039': 0, 'FR940413-0-00040': 0, 'FR940413-2-00073': 0, 'FR940413-2-00076': 0, 'FR940414-0-00032': 0, 'FR940419-1-00013': 0, 'FR940419-1-00014': 0, 'FR940419-1-00020': 0, 'FR940425-1-00003': 0, 'FR940428-2-00064': 0, 'FR940428-2-00142': 0, 'FR940505-1-00080': 0, 'FR940511-1-00074': 0, 'FR940511-1-00076': 0, 'FR940511-1-00094': 0, 'FR940512-2-00050': 0, 'FR940513-1-00069': 0, 'FR940513-1-00075': 0, 'FR940513-1-00079': 0, 'FR940513-1-00089': 0, 'FR940513-1-00111': 0, 'FR940524-2-00041': 0, 'FR940524-2-00042': 0, 'FR940524-2-00043': 0, 'FR940525-2-00048': 0, 'FR940527-1-00162': 0, 'FR940527-1-00163': 0, 'FR940527-2-00084': 0, 'FR940602-1-00023': 0, 'FR940602-1-00024': 0, 'FR940602-1-00034': 0, 'FR940602-1-00056': 0, 'FR940603-2-00049': 0, 'FR940603-2-00054': 0, 'FR940603-2-00055': 0, 'FR940603-2-00056': 0, 'FR940607-2-00064': 0, 'FR940610-2-00239': 0, 'FR940613-2-00062': 0, 'FR940616-0-00029': 0, 'FR940620-0-00165': 0, 'FR940620-0-00168': 0, 'FR940620-1-00099': 0, 'FR940622-0-00055': 0, 'FR940627-0-00245': 0, 'FR940628-0-00067': 0, 'FR940705-2-00172': 0, 'FR940711-2-00083': 0, 'FR940711-2-00084': 0, 'FR940711-2-00085': 0, 'FR940712-2-00059': 0, 'FR940713-0-00014': 0, 'FR940713-0-00038': 0, 'FR940713-1-00018': 0, 'FR940719-1-00046': 0, 'FR940719-1-00067': 0, 'FR940720-2-00131': 0, 'FR940721-2-00110': 0, 'FR940721-2-00118': 0, 'FR940722-2-00072': 0, 'FR940722-2-00101': 0, 'FR940725-0-00044': 0, 'FR940725-0-00131': 0, 'FR940725-0-00134': 0, 'FR940725-0-00136': 0, 'FR940725-0-00137': 0, 'FR940725-0-00152': 0, 'FR940725-0-00166': 0, 'FR940725-0-00167': 0, 'FR940725-0-00169': 0, 'FR940725-0-00174': 0, 'FR940725-2-00043': 0, 'FR940725-2-00089': 0, 'FR940727-1-00036': 0, 'FR940727-1-00043': 0, 'FR940802-1-00014': 0, 'FR940803-0-00069': 0, 'FR940803-2-00061': 0, 'FR940805-1-00123': 0, 'FR940805-2-00109': 0, 'FR940805-2-00111': 0, 'FR940810-0-00041': 0, 'FR940810-0-00069': 0, 'FR940810-0-00088': 0, 'FR940810-0-00114': 0, 'FR940810-0-00148': 0, 'FR940811-2-00008': 0, 'FR940811-2-00080': 0, 'FR940812-2-00032': 0, 'FR940816-2-00056': 0, 'FR940817-2-00213': 0, 'FR940817-2-00216': 0, 'FR940817-2-00222': 0, 'FR940819-0-00100': 0, 'FR940819-1-00015': 0, 'FR940819-1-00056': 0, 'FR940822-0-00016': 0, 'FR940822-0-00065': 0, 'FR940822-0-00067': 0, 'FR940822-0-00077': 0, 'FR940822-1-00023': 0, 'FR940825-2-00071': 0, 'FR940826-0-00055': 0, 'FR940826-2-00028': 0, 'FR940831-0-00064': 0, 'FR940831-0-00065': 0, 'FR940831-0-00066': 0, 'FR940831-0-00067': 0, 'FR940831-0-00068': 0, 'FR940831-0-00069': 0, 'FR940831-0-00070': 0, 'FR940831-2-00098': 0, 'FR940831-2-00107': 0, 'FR940902-1-00048': 0, 'FR940916-1-00149': 0, 'FR940919-0-00056': 0, 'FR940919-2-00065': 0, 'FR940920-2-00045': 0, 'FR941011-2-00009': 0, 'FR941012-0-00037': 0, 'FR941012-0-00047': 0, 'FR941012-0-00055': 0, 'FR941012-0-00066': 0, 'FR941012-0-00133': 0, 'FR941012-0-00136': 0, 'FR941012-0-00146': 0, 'FR941012-0-00151': 0, 'FR941012-0-00157': 0, 'FR941012-0-00158': 0, 'FR941012-0-00159': 0, 'FR941012-0-00161': 0, 'FR941012-0-00182': 0, 'FR941013-1-00077': 0, 'FR941017-2-00053': 0, 'FR941020-2-00060': 0, 'FR941020-2-00065': 0, 'FR941021-0-00024': 0, 'FR941021-0-00025': 0, 'FR941021-0-00026': 0, 'FR941021-0-00028': 0, 'FR941021-0-00029': 0, 'FR941021-0-00030': 0, 'FR941021-1-00062': 0, 'FR941025-2-00056': 0, 'FR941027-2-00067': 0, 'FR941027-2-00078': 0, 'FR941102-0-00045': 0, 'FR941102-1-00119': 0, 'FR941102-2-00092': 0, 'FR941103-2-00154': 0, 'FR941103-2-00155': 0, 'FR941107-0-00034': 0, 'FR941107-1-00015': 0, 'FR941122-2-00067': 0, 'FR941130-0-00122': 0, 'FR941202-2-00038': 0, 'FR941206-0-00004': 0, 'FR941206-0-00017': 0, 'FR941206-0-00137': 0, 'FR941206-0-00143': 0, 'FR941206-0-00144': 0, 'FR941206-0-00148': 0, 'FR941206-0-00164': 0, 'FR941206-0-00194': 0, 'FR941206-0-00195': 0, 'FR941206-0-00197': 0, 'FR941206-1-00134': 0, 'FR941207-2-00089': 0, 'FR941213-0-00036': 0, 'FR941213-0-00038': 0, 'FR941213-2-00055': 0, 'FR941213-2-00056': 0, 'FR941213-2-00057': 0, 'FR941213-2-00058': 0, 'FR941213-2-00059': 0, 'FR941216-1-00093': 0, 'FR941221-2-00104': 0, 'FR941222-0-00077': 0, 'FR941222-0-00078': 0, 'FR941222-1-00021': 0, 'FR941222-1-00023': 0, 'FR941222-1-00040': 0, 'FR941222-1-00045': 0, 'FR941222-1-00069': 0, 'FR941227-0-00116': 0, 'FR941227-1-00027': 0, 'FR941230-0-00119': 0, 'FR941230-1-00033': 0, 'FT911-131': 0, 'FT911-136': 0, 'FT911-1775': 0, 'FT911-2316': 0, 'FT911-3918': 0, 'FT911-3924': 0, 'FT911-3933': 0, 'FT911-3935': 0, 'FT911-4011': 0, 'FT911-4077': 0, 'FT911-4114': 0, 'FT911-4684': 0, 'FT911-4854': 0, 'FT911-4878': 0, 'FT911-5265': 0, 'FT911-5267': 0, 'FT911-621': 0, 'FT921-10333': 0, 'FT921-1053': 0, 'FT921-10581': 1, 'FT921-11032': 0, 'FT921-11554': 0, 'FT921-11676': 1, 'FT921-11926': 1, 'FT921-12313': 0, 'FT921-12737': 1, 'FT921-12892': 0, 'FT921-12910': 1, 'FT921-13251': 0, 'FT921-13259': 0, 'FT921-14377': 0, 'FT921-14780': 1, 'FT921-14787': 0, 'FT921-15184': 0, 'FT921-15344': 0, 'FT921-15394': 0, 'FT921-15854': 0, 'FT921-2350': 0, 'FT921-2351': 0, 'FT921-2358': 0, 'FT921-2449': 0, 'FT921-2450': 0, 'FT921-2458': 0, 'FT921-2585': 0, 'FT921-344': 0, 'FT921-411': 0, 'FT921-4239': 0, 'FT921-4469': 0, 'FT921-4708': 0, 'FT921-5289': 0, 'FT921-5724': 0, 'FT921-5963': 0, 'FT921-6116': 0, 'FT921-6158': 0, 'FT921-6382': 0, 'FT921-7102': 0, 'FT921-7490': 0, 'FT921-7655': 0, 'FT921-7798': 0, 'FT921-7851': 0, 'FT921-8082': 0, 'FT921-822': 0, 'FT921-8299': 0, 'FT921-8542': 0, 'FT921-8549': 0, 'FT921-8552': 0, 'FT921-8554': 0, 'FT921-8565': 0, 'FT921-9125': 0, 'FT921-9725': 0, 'FT921-9822': 0, 'FT922-10112': 0, 'FT922-10278': 0, 'FT922-10412': 0, 'FT922-10702': 0, 'FT922-10996': 0, 'FT922-11202': 0, 'FT922-1155': 0, 'FT922-12295': 0, 'FT922-12587': 0, 'FT922-13160': 0, 'FT922-14146': 0, 'FT922-1422': 0, 'FT922-14232': 0, 'FT922-14466': 0, 'FT922-14467': 0, 'FT922-14526': 0, 'FT922-14532': 0, 'FT922-14632': 0, 'FT922-14730': 0, 'FT922-1479': 0, 'FT922-14916': 0, 'FT922-14947': 0, 'FT922-15064': 0, 'FT922-1552': 0, 'FT922-174': 0, 'FT922-2155': 0, 'FT922-2165': 0, 'FT922-2176': 0, 'FT922-2349': 0, 'FT922-24': 0, 'FT922-2486': 0, 'FT922-2528': 0, 'FT922-2709': 0, 'FT922-2809': 0, 'FT922-3085': 0, 'FT922-4819': 0, 'FT922-5240': 0, 'FT922-5829': 0, 'FT922-6235': 0, 'FT922-6353': 0, 'FT922-6787': 0, 'FT922-7715': 0, 'FT922-8404': 0, 'FT922-8516': 0, 'FT922-8611': 0, 'FT922-8909': 0, 'FT922-8964': 0, 'FT922-9625': 0, 'FT922-9715': 0, 'FT923-10352': 0, 'FT923-10466': 0, 'FT923-1126': 0, 'FT923-11262': 1, 'FT923-1127': 0, 'FT923-125': 0, 'FT923-12522': 0, 'FT923-126': 0, 'FT923-12755': 0, 'FT923-12900': 0, 'FT923-13442': 0, 'FT923-13976': 0, 'FT923-14610': 0, 'FT923-14614': 0, 'FT923-15089': 0, 'FT923-1719': 1, 'FT923-2796': 0, 'FT923-3060': 0, 'FT923-32': 0, 'FT923-3537': 0, 'FT923-3585': 0, 'FT923-3646': 0, 'FT923-3876': 0, 'FT923-3997': 0, 'FT923-400': 0, 'FT923-4280': 0, 'FT923-4291': 1, 'FT923-4448': 0, 'FT923-4507': 0, 'FT923-5049': 0, 'FT923-5248': 0, 'FT923-5608': 0, 'FT923-6475': 0, 'FT923-6823': 0, 'FT923-7264': 0, 'FT923-7392': 0, 'FT923-7950': 0, 'FT923-797': 0, 'FT923-9119': 0, 'FT923-9317': 0, 'FT923-9318': 0, 'FT924-12398': 0, 'FT924-12703': 0, 'FT924-1293': 0, 'FT924-13187': 0, 'FT924-13876': 0, 'FT924-13945': 0, 'FT924-147': 0, 'FT924-14753': 0, 'FT924-15322': 1, 'FT924-15347': 0, 'FT924-15367': 0, 'FT924-15703': 0, 'FT924-15714': 0, 'FT924-16068': 0, 'FT924-2694': 0, 'FT924-2780': 0, 'FT924-2993': 0, 'FT924-3074': 0, 'FT924-3525': 0, 'FT924-4357': 0, 'FT924-5774': 1, 'FT924-5873': 0, 'FT924-5902': 0, 'FT924-5907': 0, 'FT924-5983': 1, 'FT924-6215': 0, 'FT924-6634': 1, 'FT924-7043': 0, 'FT924-7169': 0, 'FT924-7261': 0, 'FT924-7547': 0, 'FT924-8024': 0, 'FT924-8428': 0, 'FT924-8542': 0, 'FT924-8559': 0, 'FT924-8566': 0, 'FT931-10229': 0, 'FT931-1184': 0, 'FT931-12229': 0, 'FT931-12506': 0, 'FT931-12840': 0, 'FT931-13038': 0, 'FT931-13865': 0, 'FT931-14151': 0, 'FT931-14225': 0, 'FT931-1436': 0, 'FT931-14947': 0, 'FT931-16114': 0, 'FT931-16176': 0, 'FT931-16208': 0, 'FT931-16708': 0, 'FT931-1831': 0, 'FT931-2012': 0, 'FT931-2167': 0, 'FT931-2569': 0, 'FT931-3052': 0, 'FT931-3980': 0, 'FT931-4797': 0, 'FT931-5088': 0, 'FT931-5408': 0, 'FT931-5412': 0, 'FT931-5413': 0, 'FT931-5553': 0, 'FT931-570': 0, 'FT931-5844': 0, 'FT931-7096': 0, 'FT931-7146': 0, 'FT931-7291': 0, 'FT931-7297': 0, 'FT931-7864': 0, 'FT931-8259': 0, 'FT931-8281': 0, 'FT931-8285': 0, 'FT931-8383': 0, 'FT931-851': 0, 'FT931-9454': 0, 'FT931-9455': 0, 'FT932-11035': 0, 'FT932-12233': 1, 'FT932-12288': 0, 'FT932-12410': 0, 'FT932-13204': 0, 'FT932-1333': 0, 'FT932-13555': 0, 'FT932-13775': 0, 'FT932-14124': 0, 'FT932-14135': 1, 'FT932-14141': 0, 'FT932-14270': 0, 'FT932-14380': 0, 'FT932-15818': 0, 'FT932-16052': 0, 'FT932-16280': 0, 'FT932-16370': 0, 'FT932-16807': 0, 'FT932-16865': 0, 'FT932-16955': 0, 'FT932-2261': 0, 'FT932-2304': 0, 'FT932-307': 0, 'FT932-3201': 0, 'FT932-3560': 0, 'FT932-3610': 0, 'FT932-4001': 0, 'FT932-451': 1, 'FT932-4612': 0, 'FT932-4747': 0, 'FT932-4766': 0, 'FT932-4835': 0, 'FT932-531': 1, 'FT932-5310': 0, 'FT932-5312': 0, 'FT932-595': 0, 'FT932-6221': 0, 'FT932-6453': 0, 'FT932-6763': 0, 'FT932-6776': 0, 'FT932-6840': 0, 'FT932-6847': 0, 'FT932-7654': 0, 'FT932-8165': 0, 'FT932-8386': 0, 'FT932-8474': 1, 'FT932-8723': 0, 'FT932-9585': 0, 'FT933-10020': 1, 'FT933-10962': 0, 'FT933-11043': 0, 'FT933-11533': 0, 'FT933-11784': 0, 'FT933-12004': 1, 'FT933-12559': 0, 'FT933-13273': 0, 'FT933-13569': 0, 'FT933-13982': 0, 'FT933-13994': 0, 'FT933-14303': 0, 'FT933-14386': 0, 'FT933-14536': 0, 'FT933-14778': 1, 'FT933-14918': 0, 'FT933-15136': 0, 'FT933-16924': 0, 'FT933-1927': 0, 'FT933-1947': 0, 'FT933-1948': 1, 'FT933-1951': 0, 'FT933-1953': 0, 'FT933-1954': 0, 'FT933-1957': 0, 'FT933-2678': 0, 'FT933-2687': 0, 'FT933-2764': 0, 'FT933-2804': 0, 'FT933-4055': 0, 'FT933-4188': 0, 'FT933-4465': 0, 'FT933-4484': 0, 'FT933-4492': 0, 'FT933-4495': 0, 'FT933-4496': 0, 'FT933-4660': 0, 'FT933-5152': 0, 'FT933-5182': 0, 'FT933-5254': 0, 'FT933-5632': 0, 'FT933-6096': 0, 'FT933-6384': 0, 'FT933-6390': 0, 'FT933-700': 0, 'FT933-7533': 0, 'FT933-781': 0, 'FT934-10112': 0, 'FT934-10440': 0, 'FT934-10570': 0, 'FT934-10688': 1, 'FT934-11055': 0, 'FT934-11251': 0, 'FT934-1164': 0, 'FT934-11654': 1, 'FT934-11789': 1, 'FT934-11830': 0, 'FT934-11845': 0, 'FT934-11852': 1, 'FT934-12468': 0, 'FT934-12481': 0, 'FT934-12637': 0, 'FT934-13186': 0, 'FT934-1375': 0, 'FT934-13848': 0, 'FT934-14021': 0, 'FT934-1409': 0, 'FT934-14178': 0, 'FT934-1522': 0, 'FT934-1536': 0, 'FT934-15423': 0, 'FT934-16045': 1, 'FT934-2490': 0, 'FT934-3136': 0, 'FT934-3591': 0, 'FT934-3688': 0, 'FT934-3935': 0, 'FT934-4273': 0, 'FT934-4679': 0, 'FT934-5058': 0, 'FT934-5569': 0, 'FT934-5575': 0, 'FT934-5579': 0, 'FT934-5855': 0, 'FT934-5879': 0, 'FT934-651': 0, 'FT934-7170': 0, 'FT934-8104': 0, 'FT934-8387': 0, 'FT934-8418': 0, 'FT934-9416': 0, 'FT934-9686': 0, 'FT934-9689': 0, 'FT934-9924': 0, 'FT934-9940': 0, 'FT941-10145': 0, 'FT941-10297': 0, 'FT941-10330': 0, 'FT941-11136': 0, 'FT941-1172': 0, 'FT941-12165': 0, 'FT941-12636': 0, 'FT941-12654': 0, 'FT941-13220': 0, 'FT941-13541': 0, 'FT941-1388': 0, 'FT941-14262': 0, 'FT941-14759': 0, 'FT941-14869': 0, 'FT941-15160': 0, 'FT941-15318': 0, 'FT941-15800': 0, 'FT941-1586': 0, 'FT941-16077': 1, 'FT941-16080': 0, 'FT941-16361': 0, 'FT941-16536': 0, 'FT941-1663': 0, 'FT941-16659': 0, 'FT941-16916': 0, 'FT941-17380': 0, 'FT941-2473': 0, 'FT941-3296': 0, 'FT941-3304': 0, 'FT941-3305': 0, 'FT941-3325': 0, 'FT941-3332': 0, 'FT941-3440': 0, 'FT941-4015': 0, 'FT941-4030': 0, 'FT941-429': 1, 'FT941-4930': 0, 'FT941-5172': 0, 'FT941-5870': 0, 'FT941-6094': 0, 'FT941-6220': 0, 'FT941-6920': 0, 'FT941-7300': 1, 'FT941-7564': 1, 'FT941-7980': 0, 'FT941-8249': 0, 'FT941-8278': 0, 'FT941-8280': 0, 'FT941-834': 0, 'FT941-839': 0, 'FT941-8568': 0, 'FT941-8938': 0, 'FT941-9213': 0, 'FT942-11022': 0, 'FT942-11118': 0, 'FT942-11123': 0, 'FT942-11693': 0, 'FT942-12913': 0, 'FT942-13139': 0, 'FT942-13145': 0, 'FT942-13146': 0, 'FT942-13147': 0, 'FT942-1386': 0, 'FT942-13968': 0, 'FT942-14354': 0, 'FT942-14359': 0, 'FT942-14361': 0, 'FT942-14787': 0, 'FT942-14910': 0, 'FT942-15072': 0, 'FT942-15494': 0, 'FT942-15911': 0, 'FT942-1618': 0, 'FT942-16775': 0, 'FT942-1733': 0, 'FT942-17445': 0, 'FT942-17628': 0, 'FT942-17649': 0, 'FT942-2899': 0, 'FT942-3539': 0, 'FT942-3867': 0, 'FT942-5277': 0, 'FT942-570': 0, 'FT942-580': 0, 'FT942-5939': 0, 'FT942-6527': 0, 'FT942-7272': 0, 'FT942-780': 0, 'FT942-7848': 0, 'FT942-8460': 0, 'FT942-936': 0, 'FT942-9881': 1, 'FT943-10796': 0, 'FT943-11420': 0, 'FT943-11702': 0, 'FT943-1171': 0, 'FT943-1184': 0, 'FT943-1186': 0, 'FT943-1205': 0, 'FT943-12497': 0, 'FT943-12885': 0, 'FT943-13086': 0, 'FT943-13829': 0, 'FT943-13934': 0, 'FT943-14263': 0, 'FT943-1590': 0, 'FT943-1620': 0, 'FT943-1640': 0, 'FT943-16951': 0, 'FT943-2137': 0, 'FT943-2443': 0, 'FT943-3812': 0, 'FT943-4711': 1, 'FT943-5077': 1, 'FT943-5187': 0, 'FT943-5196': 0, 'FT943-5326': 0, 'FT943-5519': 0, 'FT943-5736': 0, 'FT943-599': 0, 'FT943-7333': 0, 'FT943-7673': 0, 'FT943-7679': 0, 'FT943-796': 0, 'FT943-7975': 0, 'FT943-8342': 1, 'FT943-8685': 0, 'FT943-8950': 0, 'FT943-9480': 0, 'FT944-10284': 0, 'FT944-10294': 0, 'FT944-10295': 0, 'FT944-10307': 0, 'FT944-10543': 0, 'FT944-11341': 0, 'FT944-12090': 0, 'FT944-12140': 0, 'FT944-12221': 0, 'FT944-12615': 0, 'FT944-12819': 0, 'FT944-12820': 0, 'FT944-13048': 0, 'FT944-13668': 1, 'FT944-13690': 0, 'FT944-13694': 0, 'FT944-13856': 0, 'FT944-14417': 0, 'FT944-14537': 0, 'FT944-1476': 0, 'FT944-14919': 0, 'FT944-1515': 0, 'FT944-15564': 0, 'FT944-15565': 0, 'FT944-15776': 0, 'FT944-15786': 0, 'FT944-15805': 0, 'FT944-16524': 0, 'FT944-16848': 0, 'FT944-16984': 0, 'FT944-1712': 0, 'FT944-17560': 0, 'FT944-18299': 0, 'FT944-18461': 0, 'FT944-263': 0, 'FT944-3733': 0, 'FT944-4635': 0, 'FT944-6228': 0, 'FT944-6656': 0, 'FT944-7040': 0, 'FT944-7312': 0, 'FT944-7649': 0, 'FT944-7809': 0, 'FT944-8870': 0, 'FT944-9024': 0, 'FT944-9073': 0, 'FT944-9163': 1, 'FT944-9321': 0, 'FT944-9350': 0, 'FT944-9445': 0, 'FT944-9452': 0, 'FT944-9461': 0, 'FT944-9468': 0, 'FT944-9470': 0, 'FT944-9474': 0, 'FT944-9603': 0, 'FT944-9629': 0, 'FT944-9655': 0, 'FT944-9668': 0, 'FT944-9710': 0, 'LA010289-0041': 0, 'LA010289-0072': 0, 'LA010589-0208': 0, 'LA010689-0133': 0, 'LA010790-0220': 0, 'LA010889-0056': 0, 'LA010889-0062': 0, 'LA010889-0154': 0, 'LA010889-0166': 0, 'LA011090-0064': 0, 'LA011189-0062': 0, 'LA011289-0096': 0, 'LA011389-0085': 1, 'LA011790-0112': 0, 'LA011989-0198': 1, 'LA012089-0089': 0, 'LA012089-0138': 0, 'LA012590-0139': 1, 'LA012789-0049': 0, 'LA012890-0035': 0, 'LA012890-0036': 0, 'LA012989-0083': 0, 'LA013090-0138': 0, 'LA020190-0050': 0, 'LA020389-0074': 0, 'LA020389-0136': 0, 'LA020489-0135': 0, 'LA020589-0196': 0, 'LA020689-0088': 0, 'LA020690-0028': 0, 'LA020890-0007': 0, 'LA021090-0085': 0, 'LA021489-0026': 0, 'LA021590-0045': 0, 'LA021689-0231': 0, 'LA021890-0199': 0, 'LA021989-0004': 0, 'LA021989-0206': 0, 'LA022089-0011': 0, 'LA022090-0119': 0, 'LA022189-0015': 0, 'LA022189-0091': 0, 'LA022389-0024': 0, 'LA022390-0073': 0, 'LA022390-0108': 0, 'LA022590-0203': 0, 'LA022890-0016': 0, 'LA030190-0186': 0, 'LA030389-0012': 1, 'LA030389-0090': 0, 'LA030590-0122': 0, 'LA030689-0003': 0, 'LA030690-0095': 0, 'LA030690-0156': 0, 'LA030889-0016': 0, 'LA030890-0204': 0, 'LA030989-0136': 0, 'LA031089-0050': 0, 'LA031289-0009': 1, 'LA031290-0081': 0, 'LA031290-0104': 0, 'LA031490-0078': 0, 'LA031590-0188': 0, 'LA031790-0149': 0, 'LA031890-0235': 0, 'LA031989-0012': 0, 'LA031989-0182': 0, 'LA031990-0076': 1, 'LA032089-0021': 0, 'LA032190-0134': 1, 'LA032290-0239': 0, 'LA032390-0007': 0, 'LA032390-0070': 0, 'LA032489-0143': 0, 'LA032789-0066': 1, 'LA032890-0084': 0, 'LA040290-0034': 0, 'LA040489-0030': 0, 'LA041190-0114': 0, 'LA041389-0104': 0, 'LA041489-0054': 0, 'LA041489-0102': 0, 'LA041590-0164': 0, 'LA041590-0213': 0, 'LA041689-0206': 0, 'LA041789-0096': 0, 'LA041889-0082': 0, 'LA041990-0177': 0, 'LA042089-0072': 0, 'LA042490-0142': 0, 'LA042490-0163': 0, 'LA042589-0079': 0, 'LA042689-0065': 0, 'LA042789-0125': 0, 'LA042790-0133': 0, 'LA042790-0204': 0, 'LA042989-0130': 0, 'LA043090-0035': 0, 'LA050289-0035': 0, 'LA050390-0057': 0, 'LA050590-0086': 0, 'LA050789-0131': 0, 'LA050790-0085': 0, 'LA050990-0163': 0, 'LA051190-0038': 0, 'LA051289-0141': 0, 'LA051490-0016': 0, 'LA051889-0086': 0, 'LA051989-0049': 0, 'LA052189-0209': 0, 'LA052189-0211': 0, 'LA052189-0214': 0, 'LA052290-0008': 0, 'LA052290-0188': 1, 'LA052390-0093': 0, 'LA052489-0045': 0, 'LA052590-0095': 0, 'LA052590-0127': 0, 'LA053090-0082': 1, 'LA060189-0082': 0, 'LA060289-0143': 0, 'LA060490-0010': 0, 'LA060690-0112': 1, 'LA060790-0181': 0, 'LA060889-0118': 0, 'LA060989-0132': 0, 'LA060990-0090': 0, 'LA061089-0087': 0, 'LA061190-0046': 0, 'LA061289-0040': 0, 'LA061289-0071': 0, 'LA061389-0096': 0, 'LA061390-0122': 0, 'LA061589-0013': 0, 'LA061789-0134': 0, 'LA061889-0112': 0, 'LA062089-0039': 0, 'LA062190-0031': 0, 'LA062289-0031': 1, 'LA062289-0103': 0, 'LA062389-0076': 0, 'LA062390-0104': 1, 'LA062490-0064': 0, 'LA063089-0127': 0, 'LA070189-0082': 0, 'LA070190-0075': 0, 'LA070190-0082': 0, 'LA070190-0199': 0, 'LA070290-0099': 1, 'LA070290-0107': 0, 'LA070390-0104': 0, 'LA070489-0108': 0, 'LA070589-0014': 0, 'LA070590-0175': 0, 'LA070890-0042': 0, 'LA070989-0140': 0, 'LA071289-0042': 0, 'LA071290-0163': 0, 'LA071389-0152': 0, 'LA071389-0155': 0, 'LA071389-0174': 0, 'LA071390-0132': 0, 'LA071489-0055': 0, 'LA071490-0103': 0, 'LA071790-0026': 0, 'LA071790-0152': 0, 'LA072189-0093': 0, 'LA072389-0056': 0, 'LA072389-0087': 0, 'LA072389-0094': 0, 'LA072389-0096': 0, 'LA072790-0167': 0, 'LA073089-0053': 0, 'LA080389-0074': 0, 'LA080590-0220': 0, 'LA080590-0260': 0, 'LA080789-0045': 0, 'LA081089-0038': 0, 'LA081089-0085': 0, 'LA081290-0032': 0, 'LA081290-0055': 0, 'LA081290-0182': 0, 'LA081490-0020': 0, 'LA081590-0123': 0, 'LA081789-0130': 0, 'LA081789-0134': 0, 'LA081890-0092': 0, 'LA081989-0134': 0, 'LA081990-0140': 0, 'LA082289-0105': 0, 'LA082289-0139': 0, 'LA082490-0137': 0, 'LA082589-0057': 0, 'LA082889-0046': 0, 'LA082889-0086': 0, 'LA082890-0167': 0, 'LA082990-0081': 1, 'LA083090-0095': 0, 'LA083189-0200': 1, 'LA083190-0040': 0, 'LA090190-0145': 0, 'LA090290-0196': 0, 'LA090290-0220': 0, 'LA090489-0050': 0, 'LA090490-0150': 0, 'LA090589-0006': 0, 'LA090589-0110': 1, 'LA090690-0218': 0, 'LA090790-0057': 0, 'LA090790-0074': 0, 'LA090990-0082': 0, 'LA091090-0108': 1, 'LA091189-0070': 0, 'LA091190-0037': 0, 'LA091190-0143': 0, 'LA091290-0124': 0, 'LA091489-0178': 0, 'LA091490-0061': 0, 'LA091589-0052': 1, 'LA091590-0056': 0, 'LA091590-0122': 0, 'LA091690-0090': 0, 'LA091690-0195': 0, 'LA091690-0196': 0, 'LA091690-0197': 0, 'LA091690-0198': 0, 'LA091790-0009': 0, 'LA091790-0043': 0, 'LA091790-0044': 0, 'LA091790-0094': 0, 'LA091890-0076': 0, 'LA091989-0114': 0, 'LA092289-0125': 0, 'LA092390-0121': 0, 'LA092390-0244': 0, 'LA092490-0071': 0, 'LA092689-0104': 0, 'LA092789-0107': 0, 'LA092989-0132': 0, 'LA093089-0065': 0, 'LA093089-0102': 0, 'LA100190-0053': 0, 'LA100389-0109': 0, 'LA100589-0111': 0, 'LA100690-0107': 1, 'LA100889-0045': 0, 'LA100889-0072': 0, 'LA100990-0048': 0, 'LA101089-0113': 0, 'LA101189-0022': 0, 'LA101290-0001': 0, 'LA101490-0024': 0, 'LA101490-0062': 0, 'LA101589-0094': 0, 'LA101690-0121': 0, 'LA101789-0141': 0, 'LA102289-0233': 0, 'LA102389-0052': 0, 'LA102489-0127': 0, 'LA102689-0077': 0, 'LA102989-0130': 0, 'LA102989-0142': 0, 'LA102989-0197': 0, 'LA102989-0212': 0, 'LA103090-0015': 0, 'LA103090-0064': 0, 'LA110190-0097': 0, 'LA110190-0156': 0, 'LA110289-0120': 0, 'LA110690-0119': 0, 'LA110889-0120': 0, 'LA110890-0217': 0, 'LA111189-0121': 0, 'LA111190-0179': 0, 'LA111689-0100': 0, 'LA111689-0145': 0, 'LA112189-0162': 0, 'LA112289-0118': 0, 'LA112290-0170': 0, 'LA112389-0150': 0, 'LA112389-0200': 0, 'LA112390-0050': 0, 'LA112390-0145': 0, 'LA112589-0052': 0, 'LA112590-0033': 0, 'LA112789-0001': 0, 'LA112889-0125': 0, 'LA112889-0127': 1, 'LA113089-0119': 0, 'LA113089-0160': 0, 'LA113090-0004': 0, 'LA113090-0174': 0, 'LA120589-0031': 0, 'LA120689-0102': 0, 'LA120689-0116': 0, 'LA120689-0152': 1, 'LA120789-0021': 1, 'LA121089-0028': 1, 'LA121089-0093': 0, 'LA121089-0232': 0, 'LA121090-0057': 0, 'LA121189-0117': 0, 'LA121190-0080': 0, 'LA121390-0226': 0, 'LA121789-0213': 0, 'LA121890-0082': 1, 'LA122490-0040': 0, 'LA122589-0047': 0, 'LA122590-0018': 0, 'LA122790-0086': 0, 'LA122790-0205': 1, 'LA122890-0090': 1, 'LA123189-0191': 0})\n",
            "68\n"
          ]
        }
      ]
    },
    {
      "cell_type": "code",
      "source": [
        "## TODO [15 points]: Compute Recall@1000 for the dev_hits and test_hits data\n",
        "## and print it out.\n",
        "\n",
        "def comp_recall_1000(hits):\n",
        "\n",
        "  res = []\n",
        "  for qid in hits.keys():\n",
        "\n",
        "    true_pos = 0\n",
        "    for docid, _ in hits[qid]:\n",
        "\n",
        "      if qrels_map[qid][docid] == 1: true_pos += 1\n",
        "\n",
        "    if rel_count_map[qid] > 0:\n",
        "\n",
        "      res.append((qid, true_pos / rel_count_map[qid]))\n",
        "\n",
        "    else: res.append((qid, 0))\n",
        "\n",
        "  return res\n",
        "\n",
        "print(\"Recall@1000 for dev_hits: \", comp_recall_1000(dev_hits))\n",
        "print(\"Recall@1000 for test_hits: \", comp_recall_1000(test_hits))"
      ],
      "metadata": {
        "id": "aGQK-C935EVA",
        "colab": {
          "base_uri": "https://localhost:8080/"
        },
        "outputId": "72ac995e-3818-4196-b5a9-305d9606f3c5"
      },
      "execution_count": 31,
      "outputs": [
        {
          "output_type": "stream",
          "name": "stdout",
          "text": [
            "Recall@1000 for dev_hits:  [(350, 0.3235294117647059), (351, 0.6458333333333334), (352, 0.11788617886178862), (353, 0.5655737704918032), (354, 0.32409972299168976), (355, 0.5333333333333333), (356, 0.17647058823529413), (357, 0.562962962962963), (358, 0.9411764705882353), (359, 0.35714285714285715), (360, 0.7748344370860927), (361, 0.7777777777777778), (362, 0.6410256410256411), (363, 0.625), (364, 0.9428571428571428), (365, 1.0), (366, 0.9292929292929293), (367, 0.37566137566137564), (368, 0.6229508196721312), (369, 0.6923076923076923), (370, 0.4880952380952381), (371, 0.29411764705882354), (372, 0.4489795918367347), (373, 0.7878787878787878), (374, 0.7843137254901961), (375, 0.575), (376, 0.22549019607843138), (377, 0.9487179487179487), (378, 0.20408163265306123), (379, 0.3125), (380, 0.8571428571428571), (381, 0.32142857142857145), (382, 0.9090909090909091), (383, 0.2054794520547945), (384, 1.0), (385, 0.6976744186046512), (386, 0.5789473684210527), (387, 0.8235294117647058), (388, 0.3333333333333333), (389, 0.14948453608247422), (700, 0.3795180722891566), (390, 0.21641791044776118), (391, 0.46629213483146065), (392, 0.9809523809523809), (393, 0.2112676056338028), (394, 0.23529411764705882), (395, 0.568075117370892), (396, 0.3898305084745763), (397, 0.5925925925925926), (398, 0.2482758620689655), (399, 0.3333333333333333), (601, 0.42857142857142855), (602, 0.8977272727272727), (603, 0.28), (604, 0.23076923076923078), (605, 0.5833333333333334), (606, 0.5), (607, 0.8181818181818182), (608, 0.6333333333333333), (609, 0.3902439024390244), (610, 1.0), (611, 0.3333333333333333), (612, 0.21428571428571427), (613, 0.10126582278481013), (614, 0.6470588235294118), (615, 0.5714285714285714), (616, 0.723404255319149), (617, 0.6533333333333333), (618, 0.9285714285714286), (619, 0.4482758620689655), (620, 0.38461538461538464), (621, 0.5692307692307692), (622, 0.4461538461538462), (623, 0.5238095238095238), (624, 0.5652173913043478), (625, 0.125), (626, 0.09090909090909091), (627, 0.4642857142857143), (628, 0.6774193548387096), (629, 0.52), (630, 0.3333333333333333), (631, 0.5942028985507246), (632, 0.6842105263157895), (633, 0.8367346938775511), (634, 0.0), (635, 0.8421052631578947), (636, 0.47058823529411764), (637, 0.5714285714285714), (638, 0.3170731707317073), (639, 0.75), (640, 0.3076923076923077), (641, 0.30985915492957744), (400, 0.8), (642, 0.11594202898550725), (401, 0.25333333333333335), (643, 0.6571428571428571), (402, 0.725), (644, 0.4444444444444444), (403, 1.0), (645, 0.36585365853658536), (404, 0.7816901408450704), (646, 0.42857142857142855), (405, 0.34210526315789475), (647, 0.23809523809523808), (406, 1.0), (648, 0.19767441860465115), (407, 0.5882352941176471), (649, 0.8378378378378378), (408, 0.4745762711864407), (409, 0.5454545454545454), (650, 0.7297297297297297), (651, 0.4888888888888889), (410, 0.9538461538461539), (652, 0.12), (411, 0.6296296296296297), (653, 0.16279069767441862), (412, 0.7317073170731707), (654, 0.6842105263157895), (413, 0.6521739130434783), (655, 0.0), (414, 0.9487179487179487), (656, 0.23353293413173654), (415, 0.38235294117647056), (657, 0.2), (416, 0.9761904761904762)]\n",
            "Recall@1000 for test_hits:  [(658, 0.35064935064935066), (417, 0.8133333333333334), (659, 0.47368421052631576), (418, 0.9568965517241379), (419, 0.625), (660, 0.5135135135135135), (661, 0.5), (420, 0.9090909090909091), (662, 0.6756756756756757), (421, 0.5060240963855421), (663, 0.05405405405405406), (301, 0.18303571428571427), (422, 0.7236842105263158), (664, 0.125), (302, 0.9692307692307692), (423, 0.9523809523809523), (665, 0.9), (303, 1.0), (424, 0.695906432748538), (666, 0.6666666666666666), (304, 0.5510204081632653), (425, 0.8395061728395061), (667, 0.7804878048780488), (305, 0.11428571428571428), (426, 0.16831683168316833), (668, 0.6136363636363636), (306, 0.4006024096385542), (427, 0.52), (669, 0.7692307692307693), (307, 0.7047619047619048), (428, 0.7796610169491526), (308, 1.0), (429, 1.0), (309, 0.3333333333333333), (670, 0.56), (671, 0.7866666666666666), (430, 1.0), (672, 0), (310, 0.46153846153846156), (431, 0.9615384615384616), (673, 0.7037037037037037), (311, 0.7747252747252747), (432, 0.10714285714285714), (674, 0.9), (312, 1.0), (433, 0.38461538461538464), (675, 1.0), (313, 0.9247311827956989), (434, 0.7435158501440923), (676, 0.3333333333333333), (314, 0.13636363636363635), (435, 0.49572649572649574), (677, 0.8), (315, 0.417910447761194), (436, 0.17777777777777778), (678, 0.18518518518518517), (316, 0.7352941176470589), (437, 0.3888888888888889), (679, 1.0), (317, 0.8571428571428571), (438, 0.7514450867052023), (318, 0.13274336283185842), (439, 0.3607305936073059), (319, 0.3411764705882353), (680, 0.84), (681, 0.6724137931034483), (440, 0.5555555555555556), (682, 0.6086956521739131), (320, 1.0), (441, 1.0), (683, 0.03977272727272727), (321, 0.6009852216748769), (442, 0.2978723404255319), (684, 0.30357142857142855), (322, 0.08823529411764706), (443, 0.6666666666666666), (685, 0.47058823529411764), (323, 0.4918032786885246), (444, 0.9411764705882353), (686, 0.7027027027027027), (324, 0.7267080745341615), (445, 0.3387096774193548), (687, 0.5233644859813084), (325, 0.7916666666666666), (446, 0.6358024691358025), (688, 0.10984848484848485), (326, 0.9347826086956522), (447, 1.0), (689, 0.1), (327, 1.0), (448, 0.2391304347826087), (328, 1.0), (449, 0.44776119402985076), (329, 0.6571428571428571), (690, 0.2857142857142857), (691, 0.9047619047619048), (450, 0.7098976109215017), (692, 0.5142857142857142), (330, 0.8333333333333334), (693, 0.6774193548387096), (331, 0.4507042253521127), (694, 0.9662921348314607), (332, 0.5354330708661418), (695, 0.6021505376344086), (333, 0.9230769230769231), (696, 0.6451612903225806), (334, 0.4444444444444444), (697, 0.6491228070175439), (335, 0.6818181818181818), (698, 0.17647058823529413), (336, 0.25), (699, 0.8873239436619719), (337, 1.0), (338, 1.0), (339, 0.9), (340, 0.4057971014492754), (341, 0.782051282051282), (342, 0.6), (343, 0.18604651162790697), (344, 1.0), (345, 0.7631578947368421), (346, 0.41904761904761906), (347, 0.5328947368421053), (348, 1.0), (349, 0.4794520547945205)]\n"
          ]
        }
      ]
    },
    {
      "cell_type": "markdown",
      "source": [
        "For a given set of top-1000 lists, Recall@1000 will not change after reranking. What will change are ranking-based metrics like MAP and NDCG. You should compute MAP@1000 for the initial `dev_hits` and `test_hits` data."
      ],
      "metadata": {
        "id": "zVcipvGDKd0P"
      }
    },
    {
      "cell_type": "code",
      "source": [
        "## TODO [10 points]: Adapt your code from Homework 3 to compute MAP@1000 for\n",
        "## the dev_hits and test_hits data and print it out.\n",
        "\n"
      ],
      "metadata": {
        "id": "-jQYNXRnK6DL"
      },
      "execution_count": null,
      "outputs": []
    },
    {
      "cell_type": "markdown",
      "source": [
        "## Reranking Search Results\n",
        "\n",
        "In this final part of the assignment, you should implement a ranking function that, hopefully, improves on the baseline BM25 ranking. You may use the BM25 score for each document as input, as well as the query, of course, and any other properties of the documents you look up with the `reader` object.  After computing a new score for each candidate, re-sort the top-1000 results by your model's score.\n",
        "\n",
        "You may use anything you've learned in this course---or in another course---to build your ranking function. For example, you could implement pseudo-relevance feedback or a relevance model, which would treat the top of each ranked list (e.g., the top 100) as if it were truly relevant and retrain model parameters. You could tune different BM25, query likelihood, or sequential dependence model parameters. You could try to learn different weights or embeddings for different fields in documents. You could use implementations of transformer language models such as BERT or SentenceBERT to score the compatibility of queries and documents. To be clear, you don't have to any of these approaches; you are free to try whatever ideas you like.\n",
        "\n",
        "If your reranking model has tunable parameters, you should tune them on the `dev_hits` set. In the end, you will also evaluate MAP@1000 on the `test_hits` set."
      ],
      "metadata": {
        "id": "MpdecWki1sxo"
      }
    },
    {
      "cell_type": "markdown",
      "source": [
        "**TODO**: Put any explanation of your reranking function here."
      ],
      "metadata": {
        "id": "_mzX46Kj8Vsn"
      }
    },
    {
      "cell_type": "code",
      "source": [
        "## TODO [70 points]: Implement a reranking function that takes a query, the\n",
        "## reader, and an initial ranking and computes new scores.\n",
        "## Like BM25, higher should be better.\n",
        "## If you train parameters or set hyperparameters for this ranking function,\n",
        "## do that here, as well."
      ],
      "metadata": {
        "id": "MkKXkWQj7mrh"
      },
      "execution_count": null,
      "outputs": []
    },
    {
      "cell_type": "code",
      "source": [
        "## TODO [5 points]: Compute and print out the MAP@1000 score after reranking\n",
        "## on dev_hits and test_hits."
      ],
      "metadata": {
        "id": "me4Pnxgw79dE"
      },
      "execution_count": null,
      "outputs": []
    }
  ]
}